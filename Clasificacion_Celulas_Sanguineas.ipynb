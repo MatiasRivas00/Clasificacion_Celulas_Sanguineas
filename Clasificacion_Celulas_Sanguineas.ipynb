{
  "cells": [
    {
      "cell_type": "markdown",
      "metadata": {
        "id": "view-in-github",
        "colab_type": "text"
      },
      "source": [
        "<a href=\"https://colab.research.google.com/github/MatiasRivas00/Clasificacion_Celulas_Sanguineas/blob/main/Clasificacion_Celulas_Sanguineas.ipynb\" target=\"_parent\"><img src=\"https://colab.research.google.com/assets/colab-badge.svg\" alt=\"Open In Colab\"/></a>"
      ]
    },
    {
      "cell_type": "markdown",
      "metadata": {
        "id": "BDpprF1q-DUV"
      },
      "source": [
        "# Clasificación de Células Sanguíneas\n",
        "\n",
        "Nombres:\n",
        "\n",
        "*   Valentina Aguilar Iturrieta\n",
        "*   Matias Rivas Aguilera\n",
        "\n",
        "\n",
        "En el proceso de diagnóstico de enfermedades, el estudio de la cantidad de células sanguíneas juega un papel importante para determinar factores que explican una enfermedad. En esta tarea, la idea es implementar el modelo de deep-learning más efectivo posible para clasificar células sanguíneas. Las clases de células sanguíneas son: [Eosinophil, Lymphocyte, Monocyte, Neutrophil]\n"
      ]
    },
    {
      "cell_type": "code",
      "execution_count": null,
      "metadata": {
        "colab": {
          "base_uri": "https://localhost:8080/"
        },
        "id": "3wTtQLgCTIxO",
        "outputId": "fede8814-d20d-4d02-fffc-fe44b31c1345"
      },
      "outputs": [
        {
          "output_type": "stream",
          "name": "stdout",
          "text": [
            "Looking in indexes: https://pypi.org/simple, https://us-python.pkg.dev/colab-wheels/public/simple/\n",
            "Requirement already satisfied: gdown in /usr/local/lib/python3.7/dist-packages (4.4.0)\n",
            "Requirement already satisfied: six in /usr/local/lib/python3.7/dist-packages (from gdown) (1.15.0)\n",
            "Requirement already satisfied: tqdm in /usr/local/lib/python3.7/dist-packages (from gdown) (4.64.1)\n",
            "Requirement already satisfied: filelock in /usr/local/lib/python3.7/dist-packages (from gdown) (3.8.0)\n",
            "Requirement already satisfied: requests[socks] in /usr/local/lib/python3.7/dist-packages (from gdown) (2.23.0)\n",
            "Requirement already satisfied: beautifulsoup4 in /usr/local/lib/python3.7/dist-packages (from gdown) (4.6.3)\n",
            "Requirement already satisfied: urllib3!=1.25.0,!=1.25.1,<1.26,>=1.21.1 in /usr/local/lib/python3.7/dist-packages (from requests[socks]->gdown) (1.24.3)\n",
            "Requirement already satisfied: chardet<4,>=3.0.2 in /usr/local/lib/python3.7/dist-packages (from requests[socks]->gdown) (3.0.4)\n",
            "Requirement already satisfied: certifi>=2017.4.17 in /usr/local/lib/python3.7/dist-packages (from requests[socks]->gdown) (2022.9.24)\n",
            "Requirement already satisfied: idna<3,>=2.5 in /usr/local/lib/python3.7/dist-packages (from requests[socks]->gdown) (2.10)\n",
            "Requirement already satisfied: PySocks!=1.5.7,>=1.5.6 in /usr/local/lib/python3.7/dist-packages (from requests[socks]->gdown) (1.7.1)\n"
          ]
        }
      ],
      "source": [
        "#Instalamos el paquete gdown para poder descargar el dataset desde el gdrive\n",
        "!pip install gdown"
      ]
    },
    {
      "cell_type": "code",
      "execution_count": null,
      "metadata": {
        "colab": {
          "base_uri": "https://localhost:8080/",
          "height": 301
        },
        "id": "LIKf7VHgTe1x",
        "outputId": "3a4bdfda-601c-494d-b608-a4524c83c4e4"
      },
      "outputs": [
        {
          "output_type": "stream",
          "name": "stderr",
          "text": [
            "Downloading...\n",
            "From: https://drive.google.com/uc?id=1CUQjT45tJmqNv_p2HcDkr4Z-IDQEbRg3\n",
            "To: /content/blood.zip\n",
            "100%|██████████| 105M/105M [00:00<00:00, 334MB/s]\n"
          ]
        },
        {
          "output_type": "execute_result",
          "data": {
            "text/plain": [
              "'blood.zip'"
            ],
            "application/vnd.google.colaboratory.intrinsic+json": {
              "type": "string"
            }
          },
          "metadata": {},
          "execution_count": 6
        }
      ],
      "source": [
        "#Descargamos el dataset\n",
        "import gdown\n",
        "output = 'blood.zip'\n",
        "gdown.download(id='1CUQjT45tJmqNv_p2HcDkr4Z-IDQEbRg3', output=output, quiet=False)"
      ]
    },
    {
      "cell_type": "code",
      "execution_count": null,
      "metadata": {
        "id": "1xojka5cUky5"
      },
      "outputs": [],
      "source": [
        "# Descomprimimos el dataset\n",
        "!unzip blood.zip"
      ]
    },
    {
      "cell_type": "markdown",
      "metadata": {
        "id": "rzyQ_QmRE-co"
      },
      "source": [
        "Implementa la mejor red neuronal posible. Tú decides si usas una red creada por ti mismo o si empleas transfer-learning. Entrena la red con los datos en la carpeta \"TRAIN\" y usa los datos en \"VAL\" como validación.\n",
        "\n",
        "Para medir el performance final, realiza las inferencias sobre los datos del conjunto \"TEST\" y computa el accuracy sobre el conjunto de test. El accuracy es la proporción de imágenes para las cuales la predicción es correcta. IMPORTANTE: el accuracy de test se calcula una sola vez cuando hayas finalizado todos tus experimentos. Para tomar decisiones sobre el modelo y sus hiperparámetros solo puedes usar el conjunto de entrenamiento y validación.\n",
        "\n",
        "Detalla todos los experimentos que hiciste y cómo llegaste a la mejor red neuronal reportada. Discute los resultados, comparando los distintos experimentos que tomaste en cuenta y responde a la pregunta: Porqué tu modelo final fue el mejor de todo lo que probaste?\n",
        "\n",
        "IMPORTANTE: Evita el overfitting a toda costa. Un modelo con overfitting es aquel que durante el entrenamiento las curvas de loss/accuracy para datos de entrenamiento y validación se separan considerablemente. \n",
        "\n",
        "Éxitos!"
      ]
    },
    {
      "cell_type": "code",
      "execution_count": null,
      "metadata": {
        "id": "L0Y5kAaWF0VP"
      },
      "outputs": [],
      "source": [
        "import torch\n",
        "import torch.nn as nn\n",
        "import torch.nn.functional as F\n",
        "import torchvision\n",
        "import numpy as np\n",
        "import matplotlib.pyplot as plt\n",
        "from torchvision import datasets, models, transforms\n",
        "import time\n",
        "import os\n",
        "import copy\n",
        "from torchvision.io import read_image\n",
        "from PIL import Image"
      ]
    },
    {
      "cell_type": "markdown",
      "source": [
        "# Definición del Entrenamiento"
      ],
      "metadata": {
        "id": "IOgEV1EXBLRf"
      }
    },
    {
      "cell_type": "code",
      "source": [
        "''' Definición Entrenamiento '''\n",
        "\n",
        "def train_model(model, criterio, optimizer, scheduler, num_epochs = 10):\n",
        "  since = time.time()\n",
        "\n",
        "  train_acc = []\n",
        "  train_loss = []\n",
        "\n",
        "  test_acc = []\n",
        "  test_loss = []\n",
        "  \n",
        "  best_model_wts = copy.deepcopy(model.state_dict())\n",
        "  best_acc = 0.0\n",
        "  \n",
        "  for epoch in range(num_epochs):\n",
        "    print('Epoch {}/{}'.format(epoch + 1, num_epochs))\n",
        "    print('-' * 10)\n",
        "    \n",
        "    #Train model\n",
        "    scheduler.step()\n",
        "    model.train()\n",
        "    \n",
        "    running_loss = 0.0\n",
        "    running_corrects = 0.0\n",
        "    \n",
        "    for inputs, labels in train_loader:\n",
        "        inputs = inputs.to(device)\n",
        "        labels = labels.to(device)\n",
        "        \n",
        "        optimizer.zero_grad()\n",
        "        \n",
        "        outputs = model(inputs)\n",
        "        _, preds = torch.max(outputs, 1)\n",
        "        loss = criterio(outputs, labels)\n",
        "          \n",
        "        loss.backward()\n",
        "        optimizer.step()\n",
        "        \n",
        "        running_loss += loss.item() * inputs.size(0)\n",
        "        running_corrects += torch.sum(preds == labels.data)\n",
        "    \n",
        "    epoch_loss = running_loss / len(train_dataset)\n",
        "    epoch_acc = running_corrects.double() / len(train_dataset)\n",
        "\n",
        "    train_loss.append(epoch_loss)\n",
        "    train_acc.append(epoch_acc)\n",
        "      \n",
        "    print('Training Loss: {:.4f} Acc: {:.4f}'.format(epoch_loss, epoch_acc))\n",
        "    \n",
        "    #Testing \n",
        "    model.eval()\n",
        "    running_loss = 0.0\n",
        "    running_corrects = 0.0\n",
        "    \n",
        "    for inputs, labels in test_loader:\n",
        "      inputs = inputs.to(device)\n",
        "      labels = labels.to(device)\n",
        "        \n",
        "      with torch.set_grad_enabled(False):\n",
        "        outputs = model(inputs)\n",
        "        _, preds = torch.max(outputs, 1)\n",
        "        loss = criterio(outputs, labels)\n",
        "          \n",
        "      running_loss += loss.item() * inputs.size(0)\n",
        "      running_corrects += torch.sum(preds == labels.data)\n",
        "     \n",
        "    epoch_loss = running_loss / len(test_dataset)\n",
        "    epoch_acc = running_corrects.double() / len(test_dataset)\n",
        "\n",
        "    test_loss.append(epoch_loss)\n",
        "    test_acc.append(epoch_acc)\n",
        "      \n",
        "    print('Testing Loss: {:.4f} Acc: {:.4f}'.format(epoch_loss, epoch_acc))\n",
        "    \n",
        "    if epoch_acc > best_acc:\n",
        "        best_acc = epoch_acc\n",
        "        best_model_wts = copy.deepcopy(model.state_dict())\n",
        "        \n",
        "  time_elapsed = time.time() - since\n",
        "  print('Training complete in {:.0f}m {:.0f}s'.format(time_elapsed//60, time_elapsed % 60))\n",
        "  print('Best Testing accucary: {:.4f}'.format(best_acc))\n",
        "\n",
        "  model.load_state_dict(best_model_wts)\n",
        "  return model, train_loss, test_loss"
      ],
      "metadata": {
        "id": "J9XeE5mXBJv-"
      },
      "execution_count": null,
      "outputs": []
    },
    {
      "cell_type": "markdown",
      "metadata": {
        "id": "L1JrRnxVof0S"
      },
      "source": [
        "# Análisis Previo"
      ]
    },
    {
      "cell_type": "markdown",
      "source": [
        "Se graficarán distintas características de los datos de TRAIN, TEST y VAL, que ayudarán a entender con qué se está trabajando:"
      ],
      "metadata": {
        "id": "I5RWFhEiLEM1"
      }
    },
    {
      "cell_type": "code",
      "execution_count": null,
      "metadata": {
        "id": "M3F02MyDoimZ"
      },
      "outputs": [],
      "source": [
        "BASE_PATH = \"images/\"\n",
        "classes = ['EOSINOPHIL','LYMPHOCYTE','MONOCYTE','NEUTROPHIL']"
      ]
    },
    {
      "cell_type": "code",
      "execution_count": null,
      "metadata": {
        "colab": {
          "base_uri": "https://localhost:8080/"
        },
        "id": "XSABnaU7tEXO",
        "outputId": "4349feef-6744-47a0-b7fc-b8ea16d2e8fd"
      },
      "outputs": [
        {
          "data": {
            "image/png": "[encoded data removed]",
            "text/plain": [
              "<Figure size 720x360 with 1 Axes>"
            ]
          },
          "metadata": {},
          "output_type": "display_data"
        }
      ],
      "source": [
        "''' TRAINING INFO '''\n",
        "\n",
        "train_info = [len(os.listdir(f\"{BASE_PATH}/TRAIN/{name_class}\")) for name_class in classes]\n",
        "  \n",
        "fig = plt.figure(figsize = (10, 5))\n",
        " \n",
        "# creating the bar plot\n",
        "plt.bar(classes, train_info, color ='red', width = 0.4)\n",
        " \n",
        "plt.xlabel(\"Clase\")\n",
        "plt.ylabel(\"N° de Imágenes\")\n",
        "plt.title(\"Cantidad de Imágenes por Clase en Training\")\n",
        "plt.show()"
      ]
    },
    {
      "cell_type": "code",
      "execution_count": null,
      "metadata": {
        "colab": {
          "base_uri": "https://localhost:8080/"
        },
        "id": "JvVnsSXztI5n",
        "outputId": "1b278da3-daf3-4eda-e201-2e786d88f8db"
      },
      "outputs": [
        {
          "data": {
            "image/png": "[encoded data removed]",
            "text/plain": [
              "<Figure size 720x360 with 1 Axes>"
            ]
          },
          "metadata": {},
          "output_type": "display_data"
        }
      ],
      "source": [
        "''' TESTING INFO '''\n",
        "\n",
        "testing_info = [len(os.listdir(f\"{BASE_PATH}/TEST/{name_class}\")) for name_class in classes]\n",
        "  \n",
        "fig = plt.figure(figsize = (10, 5))\n",
        " \n",
        "# creating the bar plot\n",
        "plt.bar(classes, testing_info, color ='green', width = 0.4)\n",
        " \n",
        "plt.xlabel(\"Clase\")\n",
        "plt.ylabel(\"N° de Imágenes\")\n",
        "plt.title(\"Cantidad de Imágenes por Clase en Testing\")\n",
        "plt.show()"
      ]
    },
    {
      "cell_type": "code",
      "execution_count": null,
      "metadata": {
        "colab": {
          "base_uri": "https://localhost:8080/"
        },
        "id": "fwK-Arh7tKVe",
        "outputId": "8c16a883-961f-4135-9d73-35c0cf4389e8"
      },
      "outputs": [
        {
          "data": {
            "image/png": "[encoded data removed]",
            "text/plain": [
              "<Figure size 720x360 with 1 Axes>"
            ]
          },
          "metadata": {},
          "output_type": "display_data"
        }
      ],
      "source": [
        "''' VALIDATION INFO '''\n",
        "\n",
        "val_info = [len(os.listdir(f\"{BASE_PATH}/VAL/{name_class}\")) for name_class in classes]\n",
        "  \n",
        "fig = plt.figure(figsize = (10, 5))\n",
        " \n",
        "# creating the bar plot\n",
        "plt.bar(classes, val_info, color ='blue', width = 0.4)\n",
        " \n",
        "plt.xlabel(\"Clase\")\n",
        "plt.ylabel(\"N° de Imágenes\")\n",
        "plt.title(\"Cantidad de Imágenes por Clase en Validación\")\n",
        "plt.show()"
      ]
    },
    {
      "cell_type": "code",
      "execution_count": null,
      "metadata": {
        "colab": {
          "base_uri": "https://localhost:8080/"
        },
        "id": "Ihl7rUKftOHE",
        "outputId": "ae4f9ac0-022b-406f-9d37-6748d25ef0a9"
      },
      "outputs": [
        {
          "data": {
            "image/png": "[encoded data removed]",
            "text/plain": [
              "<Figure size 720x720 with 1 Axes>"
            ]
          },
          "metadata": {},
          "output_type": "display_data"
        }
      ],
      "source": [
        "def get_info(path):\n",
        "  classes = ['EOSINOPHIL','LYMPHOCYTE','MONOCYTE','NEUTROPHIL']\n",
        "  amount_of_data = 0\n",
        "  for name_class in classes:\n",
        "    listof_images = os.listdir(f\"{path}/{name_class}\")\n",
        "    amount_of_data += len(listof_images)\n",
        "  return amount_of_data\n",
        "\n",
        "te = get_info(\"images/TEST\")\n",
        "tra = get_info(\"images/TRAIN\")\n",
        "val = get_info(\"images/VAL\")\n",
        "\n",
        "labels = 'Testing', 'Training', 'Validation'\n",
        "sizes = [te, tra, val]\n",
        " \n",
        "# Creating plot\n",
        "fig = plt.figure(figsize =(10, 10))\n",
        "plt.pie(sizes, labels = labels, autopct='%1.1f%%')\n",
        "\n",
        "plt.title(\"Distribución de la Data\")\n",
        " \n",
        "# show plot\n",
        "plt.show()"
      ]
    },
    {
      "cell_type": "markdown",
      "metadata": {
        "id": "1KqxPmQftWPq"
      },
      "source": [
        "### Conclusiones del Análisis Previo"
      ]
    },
    {
      "cell_type": "markdown",
      "metadata": {
        "id": "DKybC0UZtav5"
      },
      "source": [
        "- La cantidad de data de testing en proporción a la de training parece ser correcta.\n",
        "- La distribución de las clases tanto en testing como en training es homogénea, por lo que se cree que no debiera existir predominancia de alguna clase en la red neuronal.\n",
        "- La cantidad de data de validación es muy escasa y no está homogéneamente distribuida. Por lo que si nos basamos en la data de validación directamente para sacar algunas conclusiones, puede que la red presente buenos resultados, pero estos no serán representativos, pues la mayoría de la data de validacion está concentrada en la clase NEUTROPHIL mientras que para la clase MONOCYTE hay apenas data."
      ]
    },
    {
      "cell_type": "markdown",
      "metadata": {
        "id": "Vg32HpM5lzYX"
      },
      "source": [
        "# Organización de la Data"
      ]
    },
    {
      "cell_type": "code",
      "execution_count": null,
      "metadata": {
        "id": "MSz9IkMvFhuU"
      },
      "outputs": [],
      "source": [
        "class BloodDataset(torch.utils.data.Dataset):\n",
        "  def __init__(self, root, split, transform):\n",
        "    self.root = root\n",
        "    self.split = split\n",
        "    self.transform = transform\n",
        "    self.class2idx = dict()\n",
        "\n",
        "    self.class2idx['EOSINOPHIL'] = 0\n",
        "    self.class2idx['LYMPHOCYTE'] = 1\n",
        "    self.class2idx['MONOCYTE'] = 2\n",
        "    self.class2idx['NEUTROPHIL'] = 3\n",
        "\n",
        "    self.classes = ['EOSINOPHIL','LYMPHOCYTE','MONOCYTE','NEUTROPHIL']\n",
        "    self.images = []\n",
        "    self.labels = []\n",
        "\n",
        "    # Extracción de paths y clases para cada imagen\n",
        "    for class_name in self.classes:\n",
        "      rootof_images_names = os.path.join(self.root, f'{self.split}/{class_name}/')\n",
        "      listof_images_names = os.listdir(rootof_images_names)\n",
        "      for im in listof_images_names:\n",
        "        self.images.append(im.strip())\n",
        "        self.labels.append(class_name)\n",
        "  \n",
        "  def __len__(self):\n",
        "    return len(self.images)\n",
        "  \n",
        "  def __getitem__(self, idx):\n",
        "    name_label = self.labels[idx]\n",
        "    label = self.class2idx[name_label]\n",
        "\n",
        "    image_path = os.path.join(self.root, self.split, name_label, self.images[idx])\n",
        "    image = Image.open(image_path)\n",
        "    im = image.convert('RGB')\n",
        "\n",
        "    if self.transform:\n",
        "      image = self.transform(im)\n",
        "      \n",
        "    return image, label"
      ]
    },
    {
      "cell_type": "markdown",
      "metadata": {
        "id": "23v3r0f_mPzK"
      },
      "source": [
        "### Preparación de la Data"
      ]
    },
    {
      "cell_type": "code",
      "execution_count": null,
      "metadata": {
        "id": "6uenNo3omTGj"
      },
      "outputs": [],
      "source": [
        "''' Extracción de Data '''\n",
        "\n",
        "train_dataset = BloodDataset(root='images/', split='TRAIN',\n",
        "                                                transform=transforms.Compose([\n",
        "                                                    transforms.RandomResizedCrop(224),\n",
        "                                                    transforms. ToTensor(),\n",
        "                                                    transforms.Normalize(mean=[0.485, 0.456, 0.406],\n",
        "                                                                        std=[0.229, 0.224, 0.225])\n",
        "                                                ]))\n",
        "\n",
        "test_dataset = BloodDataset(root='images/', split='TEST',\n",
        "                                                transform=transforms.Compose([\n",
        "                                                    transforms.RandomResizedCrop(224),\n",
        "                                                    transforms. ToTensor(),\n",
        "                                                    transforms.Normalize(mean=[0.485, 0.456, 0.406],\n",
        "                                                                        std=[0.229, 0.224, 0.225])\n",
        "                                                ]))"
      ]
    },
    {
      "cell_type": "code",
      "execution_count": null,
      "metadata": {
        "id": "shD6k5oYml_E"
      },
      "outputs": [],
      "source": [
        "''' DataLoaders '''\n",
        "\n",
        "train_loader = torch.utils.data.DataLoader(train_dataset, batch_size=256, shuffle=True)\n",
        "test_loader= torch.utils.data.DataLoader(test_dataset, batch_size=256, shuffle=True)"
      ]
    },
    {
      "cell_type": "code",
      "execution_count": null,
      "metadata": {
        "id": "METvMZWAmycI"
      },
      "outputs": [],
      "source": [
        "''' Clases '''\n",
        "\n",
        "class_names = train_dataset.classes"
      ]
    },
    {
      "cell_type": "code",
      "execution_count": null,
      "metadata": {
        "id": "0eu0h5m4m4LT"
      },
      "outputs": [],
      "source": [
        "''' Dispositivo '''\n",
        "\n",
        "device = ('cuda' if torch.cuda.is_available() else 'cpu')"
      ]
    },
    {
      "cell_type": "markdown",
      "source": [
        "# Entrenamientos"
      ],
      "metadata": {
        "id": "BNvKuAb_MWZs"
      }
    },
    {
      "cell_type": "markdown",
      "source": [
        "A continuación se presentarán 9 intentos de entrenamiento, para así analizar y concluir qué modelo escoger:"
      ],
      "metadata": {
        "id": "n4YZqyTJMcYe"
      }
    },
    {
      "cell_type": "markdown",
      "metadata": {
        "id": "6a7J1L0FnYTM"
      },
      "source": [
        "## Entrenamiento Primer Intento"
      ]
    },
    {
      "cell_type": "markdown",
      "metadata": {
        "id": "7ZD51ncHvq9O"
      },
      "source": [
        "### Fine Tuning"
      ]
    },
    {
      "cell_type": "code",
      "execution_count": null,
      "metadata": {
        "id": "8_KaXCthsDWi",
        "colab": {
          "base_uri": "https://localhost:8080/",
          "height": 876,
          "referenced_widgets": [
            "5a1b74f1372842a49e568919348cc3b6",
            "873648d0ad9841e5ab5a2d197739d2b1",
            "acb7ee0979b24b488138274970e25950",
            "2819ab9d350b44e4a0b6bfe091e022b7",
            "e18d278a18224768af66671140aeebb1",
            "e7580de5ea764c59b0039a54c5cd1c66",
            "d42730a7d32d4e9498cb7f37ea3b1422",
            "282a826894c24307b353bd264ec63add",
            "745e569097ea43938ed2f18a0f02831e",
            "57049cc5059340a382cef4ec8562e9f3",
            "1fcef5cc64cc4d61ae5b7aeb164fa80c"
          ]
        },
        "outputId": "53e61f06-8e32-46a6-af4b-f8675ee0d5b5"
      },
      "outputs": [
        {
          "output_type": "stream",
          "name": "stderr",
          "text": [
            "/usr/local/lib/python3.7/dist-packages/torchvision/models/_utils.py:209: UserWarning: The parameter 'pretrained' is deprecated since 0.13 and will be removed in 0.15, please use 'weights' instead.\n",
            "  f\"The parameter '{pretrained_param}' is deprecated since 0.13 and will be removed in 0.15, \"\n",
            "/usr/local/lib/python3.7/dist-packages/torchvision/models/_utils.py:223: UserWarning: Arguments other than a weight enum or `None` for 'weights' are deprecated since 0.13 and will be removed in 0.15. The current behavior is equivalent to passing `weights=ResNet18_Weights.IMAGENET1K_V1`. You can also use `weights=ResNet18_Weights.DEFAULT` to get the most up-to-date weights.\n",
            "  warnings.warn(msg)\n",
            "Downloading: \"https://download.pytorch.org/models/resnet18-f37072fd.pth\" to /root/.cache/torch/hub/checkpoints/resnet18-f37072fd.pth\n"
          ]
        },
        {
          "output_type": "display_data",
          "data": {
            "text/plain": [
              "  0%|          | 0.00/44.7M [00:00<?, ?B/s]"
            ],
            "application/vnd.jupyter.widget-view+json": {
              "version_major": 2,
              "version_minor": 0,
              "model_id": "5a1b74f1372842a49e568919348cc3b6"
            }
          },
          "metadata": {}
        },
        {
          "output_type": "stream",
          "name": "stdout",
          "text": [
            "Epoch 1/10\n",
            "----------\n"
          ]
        },
        {
          "output_type": "stream",
          "name": "stderr",
          "text": [
            "/usr/local/lib/python3.7/dist-packages/torch/optim/lr_scheduler.py:136: UserWarning: Detected call of `lr_scheduler.step()` before `optimizer.step()`. In PyTorch 1.1.0 and later, you should call them in the opposite order: `optimizer.step()` before `lr_scheduler.step()`.  Failure to do this will result in PyTorch skipping the first value of the learning rate schedule. See more details at https://pytorch.org/docs/stable/optim.html#how-to-adjust-learning-rate\n",
            "  \"https://pytorch.org/docs/stable/optim.html#how-to-adjust-learning-rate\", UserWarning)\n"
          ]
        },
        {
          "output_type": "stream",
          "name": "stdout",
          "text": [
            "Training Loss: 1.2506 Acc: 0.4253\n",
            "Testing Loss: 1.0155 Acc: 0.5661\n",
            "Epoch 2/10\n",
            "----------\n",
            "Training Loss: 0.8465 Acc: 0.6635\n",
            "Testing Loss: 0.7831 Acc: 0.6771\n",
            "Epoch 3/10\n",
            "----------\n",
            "Training Loss: 0.6467 Acc: 0.7459\n",
            "Testing Loss: 0.6946 Acc: 0.6944\n",
            "Epoch 4/10\n",
            "----------\n",
            "Training Loss: 0.5392 Acc: 0.7842\n",
            "Testing Loss: 0.6449 Acc: 0.7177\n",
            "Epoch 5/10\n",
            "----------\n",
            "Training Loss: 0.4611 Acc: 0.8092\n",
            "Testing Loss: 0.6512 Acc: 0.7201\n",
            "Epoch 6/10\n",
            "----------\n",
            "Training Loss: 0.4285 Acc: 0.8221\n",
            "Testing Loss: 0.6344 Acc: 0.7254\n",
            "Epoch 7/10\n",
            "----------\n",
            "Training Loss: 0.4048 Acc: 0.8388\n",
            "Testing Loss: 0.5873 Acc: 0.7398\n",
            "Epoch 8/10\n",
            "----------\n",
            "Training Loss: 0.4005 Acc: 0.8359\n",
            "Testing Loss: 0.6173 Acc: 0.7266\n",
            "Epoch 9/10\n",
            "----------\n",
            "Training Loss: 0.3981 Acc: 0.8376\n",
            "Testing Loss: 0.5798 Acc: 0.7419\n",
            "Epoch 10/10\n",
            "----------\n",
            "Training Loss: 0.3957 Acc: 0.8401\n",
            "Testing Loss: 0.5864 Acc: 0.7439\n",
            "Training complete in 12m 12s\n",
            "Best Testing accucary: 0.7439\n"
          ]
        }
      ],
      "source": [
        "# Transfer Learning\n",
        "model_ft = models.resnet18(pretrained=True)\n",
        "\n",
        "num_ft = model_ft.fc.in_features\n",
        "model_ft.fc = nn.Linear(num_ft, 4)\n",
        "\n",
        "model_ft = model_ft.to(device)\n",
        "criterion = nn.CrossEntropyLoss()\n",
        "optimizer = torch.optim.SGD(model_ft.parameters(), lr=0.001, momentum=0.9)\n",
        "exp_lr_scheduler = torch.optim.lr_scheduler.StepLR(optimizer, step_size=7, gamma=0.1)\n",
        "\n",
        "model_ft, train_loss, test_loss = train_model(model_ft, criterion, optimizer, exp_lr_scheduler)"
      ]
    },
    {
      "cell_type": "code",
      "execution_count": null,
      "metadata": {
        "id": "eYhD8sRTsF4n",
        "colab": {
          "base_uri": "https://localhost:8080/",
          "height": 294
        },
        "outputId": "34cc096b-05bc-46d4-a77b-f4a61ba199b5"
      },
      "outputs": [
        {
          "output_type": "display_data",
          "data": {
            "text/plain": [
              "<Figure size 432x288 with 1 Axes>"
            ],
            "image/png": "[encoded data removed]"
          },
          "metadata": {
            "needs_background": "light"
          }
        }
      ],
      "source": [
        "# loss / epoch\n",
        "plt.plot(range(1, 11), train_loss, label='Train')\n",
        "plt.plot(range(1, 11), test_loss, label='Test')\n",
        "plt.xlabel(\"Epoch\")  \n",
        "plt.ylabel(\"Loss\") \n",
        "plt.title(\"Perdida por cada época\")  \n",
        "plt.legend()\n",
        "plt.show()"
      ]
    },
    {
      "cell_type": "markdown",
      "metadata": {
        "id": "GtZPKavBvuix"
      },
      "source": [
        "### No Fine Tuning"
      ]
    },
    {
      "cell_type": "code",
      "execution_count": null,
      "metadata": {
        "id": "JCwi-YmFu995",
        "colab": {
          "base_uri": "https://localhost:8080/"
        },
        "outputId": "63a3d1af-32a0-40ab-99e7-8486af0f88ac"
      },
      "outputs": [
        {
          "output_type": "stream",
          "name": "stdout",
          "text": [
            "Epoch 1/10\n",
            "----------\n",
            "Training Loss: 1.4011 Acc: 0.2896\n",
            "Testing Loss: 1.3153 Acc: 0.3752\n",
            "Epoch 2/10\n",
            "----------\n",
            "Training Loss: 1.2535 Acc: 0.4306\n",
            "Testing Loss: 1.2273 Acc: 0.4391\n",
            "Epoch 3/10\n",
            "----------\n",
            "Training Loss: 1.1695 Acc: 0.4993\n",
            "Testing Loss: 1.1864 Acc: 0.4809\n",
            "Epoch 4/10\n",
            "----------\n",
            "Training Loss: 1.1178 Acc: 0.5311\n",
            "Testing Loss: 1.1487 Acc: 0.5099\n",
            "Epoch 5/10\n",
            "----------\n",
            "Training Loss: 1.0851 Acc: 0.5562\n",
            "Testing Loss: 1.1198 Acc: 0.5183\n",
            "Epoch 6/10\n",
            "----------\n",
            "Training Loss: 1.0590 Acc: 0.5629\n",
            "Testing Loss: 1.1091 Acc: 0.5300\n",
            "Epoch 7/10\n",
            "----------\n",
            "Training Loss: 1.0392 Acc: 0.5784\n",
            "Testing Loss: 1.1060 Acc: 0.5384\n",
            "Epoch 8/10\n",
            "----------\n",
            "Training Loss: 1.0452 Acc: 0.5687\n",
            "Testing Loss: 1.0990 Acc: 0.5287\n",
            "Epoch 9/10\n",
            "----------\n",
            "Training Loss: 1.0368 Acc: 0.5749\n",
            "Testing Loss: 1.1037 Acc: 0.5267\n",
            "Epoch 10/10\n",
            "----------\n",
            "Training Loss: 1.0330 Acc: 0.5801\n",
            "Testing Loss: 1.1165 Acc: 0.5292\n",
            "Training complete in 8m 40s\n",
            "Best Testing accucary: 0.5384\n"
          ]
        }
      ],
      "source": [
        "# Freeze\n",
        "\n",
        "#Transfer Learning\n",
        "model_conv = models.resnet18(pretrained=True)\n",
        "\n",
        "# Freezing\n",
        "for param in model_conv.parameters():\n",
        "  param.requires_grad = False\n",
        "  \n",
        "num_ft = model_conv.fc.in_features\n",
        "model_conv.fc = nn.Linear(num_ft,4)\n",
        "\n",
        "model_conv = model_conv.to(device)\n",
        "criterion = nn.CrossEntropyLoss()\n",
        "\n",
        "optimizer_conv = torch.optim.SGD(model_conv.fc.parameters(), lr = 0.001, momentum=0.9)\n",
        "exp_lr_scheduler = torch.optim.lr_scheduler.StepLR(optimizer_conv, step_size=7, gamma = 0.1)\n",
        "\n",
        "model_conv, train_loss, test_loss = train_model(model_conv, criterion, optimizer_conv, exp_lr_scheduler, num_epochs=10)"
      ]
    },
    {
      "cell_type": "code",
      "execution_count": null,
      "metadata": {
        "id": "xerGdA_0u_kv",
        "colab": {
          "base_uri": "https://localhost:8080/",
          "height": 294
        },
        "outputId": "ea174406-3241-4259-9f27-e7704ecb3675"
      },
      "outputs": [
        {
          "output_type": "display_data",
          "data": {
            "text/plain": [
              "<Figure size 432x288 with 1 Axes>"
            ],
            "image/png": "[encoded data removed]"
          },
          "metadata": {
            "needs_background": "light"
          }
        }
      ],
      "source": [
        "# loss / epoch\n",
        "plt.plot(range(1, 11), train_loss, label='Train')\n",
        "plt.plot(range(1, 11), test_loss, label='Test')\n",
        "plt.xlabel(\"Epoch\") \n",
        "plt.ylabel(\"Loss\")  \n",
        "plt.title(\"Perdida por cada época\")  \n",
        "plt.legend()\n",
        "plt.show()"
      ]
    },
    {
      "cell_type": "markdown",
      "metadata": {
        "id": "0mSDQjPhv42X"
      },
      "source": [
        "### Conclusiones"
      ]
    },
    {
      "cell_type": "markdown",
      "metadata": {
        "id": "kjeIHOPyv7rz"
      },
      "source": [
        "- Como se esperaba, el modelo sin ningún tipo de precaución contra el overfitting, presenta overtfitting. Esto se puede apreciar fácilmente en los gráficos de perdida a través de la épocas en donde la perdida mejora para la data de training, pero deja de presentar mejoras considerables en la data de testing.\n",
        "- Hacer backpropagation en la capa convolucional produce mejores resultados que no hacerlo, así que esto se mantendrá para los siguientes intentos."
      ]
    },
    {
      "cell_type": "markdown",
      "metadata": {
        "id": "TgvCfTmwEr8y"
      },
      "source": [
        "## Entrenamiento Segundo Intento: L2 Regularization"
      ]
    },
    {
      "cell_type": "markdown",
      "metadata": {
        "id": "zzdUfp2ZlcYD"
      },
      "source": [
        "### Lambda 1e-3"
      ]
    },
    {
      "cell_type": "code",
      "execution_count": null,
      "metadata": {
        "colab": {
          "base_uri": "https://localhost:8080/"
        },
        "id": "Nr9oBRyfPbrN",
        "outputId": "1cc984f5-22e0-433c-91da-4f1c6a6e0d53"
      },
      "outputs": [
        {
          "name": "stdout",
          "output_type": "stream",
          "text": [
            "Epoch 1/10\n",
            "----------\n",
            "Training Loss: 1.2785 Acc: 0.4005\n",
            "Testing Loss: 1.0540 Acc: 0.5637\n",
            "Epoch 2/10\n",
            "----------\n",
            "Training Loss: 0.8716 Acc: 0.6444\n",
            "Testing Loss: 0.8226 Acc: 0.6707\n",
            "Epoch 3/10\n",
            "----------\n",
            "Training Loss: 0.6392 Acc: 0.7496\n",
            "Testing Loss: 0.6787 Acc: 0.7181\n",
            "Epoch 4/10\n",
            "----------\n",
            "Training Loss: 0.5220 Acc: 0.7883\n",
            "Testing Loss: 0.6408 Acc: 0.7254\n",
            "Epoch 5/10\n",
            "----------\n",
            "Training Loss: 0.4531 Acc: 0.8195\n",
            "Testing Loss: 0.6035 Acc: 0.7358\n",
            "Epoch 6/10\n",
            "----------\n",
            "Training Loss: 0.4256 Acc: 0.8274\n",
            "Testing Loss: 0.6163 Acc: 0.7402\n",
            "Epoch 7/10\n",
            "----------\n",
            "Training Loss: 0.3941 Acc: 0.8431\n",
            "Testing Loss: 0.6153 Acc: 0.7370\n",
            "Epoch 8/10\n",
            "----------\n",
            "Training Loss: 0.3797 Acc: 0.8493\n",
            "Testing Loss: 0.6216 Acc: 0.7342\n",
            "Epoch 9/10\n",
            "----------\n",
            "Training Loss: 0.3799 Acc: 0.8504\n",
            "Testing Loss: 0.5957 Acc: 0.7515\n",
            "Epoch 10/10\n",
            "----------\n",
            "Training Loss: 0.3857 Acc: 0.8450\n",
            "Testing Loss: 0.6013 Acc: 0.7431\n",
            "Training complete in 12m 2s\n",
            "Best Testing accucary: 0.7515\n"
          ]
        }
      ],
      "source": [
        "# Transfer Learning\n",
        "model_ft = models.resnet18(pretrained=True)\n",
        "\n",
        "num_ft = model_ft.fc.in_features\n",
        "model_ft.fc = nn.Linear(num_ft, 4)\n",
        "\n",
        "model_ft = model_ft.to(device)\n",
        "criterion = nn.CrossEntropyLoss()\n",
        "optimizer = torch.optim.SGD(model_ft.parameters(), lr=0.001, momentum=0.9, weight_decay=1e-3)\n",
        "exp_lr_scheduler = torch.optim.lr_scheduler.StepLR(optimizer, step_size=7, gamma=0.1)\n",
        "\n",
        "model_ft, train_loss, test_loss = train_model(model_ft, criterion, optimizer, exp_lr_scheduler)"
      ]
    },
    {
      "cell_type": "code",
      "execution_count": null,
      "metadata": {
        "colab": {
          "base_uri": "https://localhost:8080/",
          "height": 295
        },
        "id": "wwSa85rSPdCn",
        "outputId": "7e91de17-f12d-420a-e354-b568042d16b4"
      },
      "outputs": [
        {
          "data": {
            "image/png": "[encoded data removed]",
            "text/plain": [
              "<Figure size 432x288 with 1 Axes>"
            ]
          },
          "metadata": {},
          "output_type": "display_data"
        }
      ],
      "source": [
        "# loss / epoch\n",
        "plt.plot(range(1, 11), train_loss, label='Train')\n",
        "plt.plot(range(1, 11), test_loss, label='Test')\n",
        "plt.xlabel(\"Epoch\")  \n",
        "plt.ylabel(\"Loss\") \n",
        "plt.title(\"Perdida por cada época\")  \n",
        "plt.legend()\n",
        "plt.show()"
      ]
    },
    {
      "cell_type": "markdown",
      "metadata": {
        "id": "Xh9FU62klWoV"
      },
      "source": [
        "### Lambda 1e-4"
      ]
    },
    {
      "cell_type": "code",
      "execution_count": null,
      "metadata": {
        "colab": {
          "base_uri": "https://localhost:8080/"
        },
        "id": "RqV7on38Ez1P",
        "outputId": "e528c7d9-68cf-4c87-d2bd-233d00ab9c25"
      },
      "outputs": [
        {
          "name": "stdout",
          "output_type": "stream",
          "text": [
            "Epoch 1/10\n",
            "----------\n",
            "Training Loss: 1.2960 Acc: 0.3937\n",
            "Testing Loss: 1.1502 Acc: 0.4982\n",
            "Epoch 2/10\n",
            "----------\n",
            "Training Loss: 0.8823 Acc: 0.6491\n",
            "Testing Loss: 0.8310 Acc: 0.6478\n",
            "Epoch 3/10\n",
            "----------\n",
            "Training Loss: 0.6666 Acc: 0.7331\n",
            "Testing Loss: 0.7407 Acc: 0.6880\n",
            "Epoch 4/10\n",
            "----------\n",
            "Training Loss: 0.5519 Acc: 0.7761\n",
            "Testing Loss: 0.6453 Acc: 0.7089\n",
            "Epoch 5/10\n",
            "----------\n",
            "Training Loss: 0.4651 Acc: 0.8159\n",
            "Testing Loss: 0.6612 Acc: 0.7121\n",
            "Epoch 6/10\n",
            "----------\n",
            "Training Loss: 0.4244 Acc: 0.8312\n",
            "Testing Loss: 0.6192 Acc: 0.7314\n",
            "Epoch 7/10\n",
            "----------\n",
            "Training Loss: 0.4009 Acc: 0.8387\n",
            "Testing Loss: 0.5790 Acc: 0.7475\n",
            "Epoch 8/10\n",
            "----------\n",
            "Training Loss: 0.3889 Acc: 0.8435\n",
            "Testing Loss: 0.5917 Acc: 0.7334\n",
            "Epoch 9/10\n",
            "----------\n",
            "Training Loss: 0.3925 Acc: 0.8437\n",
            "Testing Loss: 0.5580 Acc: 0.7563\n",
            "Epoch 10/10\n",
            "----------\n",
            "Training Loss: 0.3924 Acc: 0.8391\n",
            "Testing Loss: 0.5888 Acc: 0.7334\n",
            "Training complete in 11m 45s\n",
            "Best Testing accucary: 0.7563\n"
          ]
        }
      ],
      "source": [
        "# Transfer Learning\n",
        "model_ft = models.resnet18(pretrained=True)\n",
        "\n",
        "num_ft = model_ft.fc.in_features\n",
        "model_ft.fc = nn.Linear(num_ft, 4)\n",
        "\n",
        "model_ft = model_ft.to(device)\n",
        "criterion = nn.CrossEntropyLoss()\n",
        "optimizer = torch.optim.SGD(model_ft.parameters(), lr=0.001, momentum=0.9, weight_decay=1e-4)\n",
        "exp_lr_scheduler = torch.optim.lr_scheduler.StepLR(optimizer, step_size=7, gamma=0.1)\n",
        "\n",
        "model_ft, train_loss, test_loss = train_model(model_ft, criterion, optimizer, exp_lr_scheduler)"
      ]
    },
    {
      "cell_type": "code",
      "execution_count": null,
      "metadata": {
        "colab": {
          "base_uri": "https://localhost:8080/",
          "height": 295
        },
        "id": "Lp7srvMaE1om",
        "outputId": "5a6f776f-976f-416a-c869-0c523db05b14"
      },
      "outputs": [
        {
          "data": {
            "image/png": "[encoded data removed]",
            "text/plain": [
              "<Figure size 432x288 with 1 Axes>"
            ]
          },
          "metadata": {},
          "output_type": "display_data"
        }
      ],
      "source": [
        "# loss / epoch\n",
        "plt.plot(range(1, 11), train_loss, label='Train')\n",
        "plt.plot(range(1, 11), test_loss, label='Test')\n",
        "plt.xlabel(\"Epoch\")  \n",
        "plt.ylabel(\"Loss\") \n",
        "plt.title(\"Perdida por cada época\")  \n",
        "plt.legend()\n",
        "plt.show()"
      ]
    },
    {
      "cell_type": "markdown",
      "metadata": {
        "id": "uBZS1Dzsq7f_"
      },
      "source": [
        "### Lambda 1e-5"
      ]
    },
    {
      "cell_type": "code",
      "execution_count": null,
      "metadata": {
        "colab": {
          "base_uri": "https://localhost:8080/"
        },
        "id": "o3Gs2MxXq3g0",
        "outputId": "8353f124-6e6a-4d4b-e6dc-4250fd56b8de"
      },
      "outputs": [
        {
          "name": "stderr",
          "output_type": "stream",
          "text": [
            "/usr/local/lib/python3.7/dist-packages/torchvision/models/_utils.py:209: UserWarning: The parameter 'pretrained' is deprecated since 0.13 and will be removed in 0.15, please use 'weights' instead.\n",
            "  f\"The parameter '{pretrained_param}' is deprecated since 0.13 and will be removed in 0.15, \"\n",
            "/usr/local/lib/python3.7/dist-packages/torchvision/models/_utils.py:223: UserWarning: Arguments other than a weight enum or `None` for 'weights' are deprecated since 0.13 and will be removed in 0.15. The current behavior is equivalent to passing `weights=ResNet18_Weights.IMAGENET1K_V1`. You can also use `weights=ResNet18_Weights.DEFAULT` to get the most up-to-date weights.\n",
            "  warnings.warn(msg)\n"
          ]
        },
        {
          "name": "stdout",
          "output_type": "stream",
          "text": [
            "Epoch 1/10\n",
            "----------\n"
          ]
        },
        {
          "name": "stderr",
          "output_type": "stream",
          "text": [
            "/usr/local/lib/python3.7/dist-packages/torch/optim/lr_scheduler.py:136: UserWarning: Detected call of `lr_scheduler.step()` before `optimizer.step()`. In PyTorch 1.1.0 and later, you should call them in the opposite order: `optimizer.step()` before `lr_scheduler.step()`.  Failure to do this will result in PyTorch skipping the first value of the learning rate schedule. See more details at https://pytorch.org/docs/stable/optim.html#how-to-adjust-learning-rate\n",
            "  \"https://pytorch.org/docs/stable/optim.html#how-to-adjust-learning-rate\", UserWarning)\n"
          ]
        },
        {
          "name": "stdout",
          "output_type": "stream",
          "text": [
            "Training Loss: 1.2906 Acc: 0.3890\n",
            "Testing Loss: 1.1165 Acc: 0.5308\n",
            "Epoch 2/10\n",
            "----------\n",
            "Training Loss: 0.8845 Acc: 0.6439\n",
            "Testing Loss: 0.7960 Acc: 0.6771\n",
            "Epoch 3/10\n",
            "----------\n",
            "Training Loss: 0.6453 Acc: 0.7415\n",
            "Testing Loss: 0.6487 Acc: 0.7298\n",
            "Epoch 4/10\n",
            "----------\n",
            "Training Loss: 0.5294 Acc: 0.7850\n",
            "Testing Loss: 0.6367 Acc: 0.7298\n",
            "Epoch 5/10\n",
            "----------\n",
            "Training Loss: 0.4623 Acc: 0.8160\n",
            "Testing Loss: 0.6505 Acc: 0.7201\n",
            "Epoch 6/10\n",
            "----------\n",
            "Training Loss: 0.4168 Acc: 0.8306\n",
            "Testing Loss: 0.6039 Acc: 0.7435\n",
            "Epoch 7/10\n",
            "----------\n",
            "Training Loss: 0.3977 Acc: 0.8368\n",
            "Testing Loss: 0.5913 Acc: 0.7479\n",
            "Epoch 8/10\n",
            "----------\n",
            "Training Loss: 0.3979 Acc: 0.8363\n",
            "Testing Loss: 0.5845 Acc: 0.7427\n",
            "Epoch 9/10\n",
            "----------\n",
            "Training Loss: 0.3820 Acc: 0.8476\n",
            "Testing Loss: 0.6244 Acc: 0.7346\n",
            "Epoch 10/10\n",
            "----------\n",
            "Training Loss: 0.3851 Acc: 0.8433\n",
            "Testing Loss: 0.6149 Acc: 0.7282\n",
            "Training complete in 12m 8s\n",
            "Best Testing accucary: 0.7479\n"
          ]
        }
      ],
      "source": [
        "# Transfer Learning\n",
        "model_ft = models.resnet18(pretrained=True)\n",
        "\n",
        "num_ft = model_ft.fc.in_features\n",
        "model_ft.fc = nn.Linear(num_ft, 4)\n",
        "\n",
        "model_ft = model_ft.to(device)\n",
        "criterion = nn.CrossEntropyLoss()\n",
        "optimizer = torch.optim.SGD(model_ft.parameters(), lr=0.001, momentum=0.9, weight_decay=1e-4)\n",
        "exp_lr_scheduler = torch.optim.lr_scheduler.StepLR(optimizer, step_size=7, gamma=0.1)\n",
        "\n",
        "model_ft, train_loss, test_loss = train_model(model_ft, criterion, optimizer, exp_lr_scheduler)"
      ]
    },
    {
      "cell_type": "code",
      "execution_count": null,
      "metadata": {
        "colab": {
          "base_uri": "https://localhost:8080/",
          "height": 295
        },
        "id": "rAS3vuOeq6z0",
        "outputId": "617e786c-3936-407e-85fe-413df312d883"
      },
      "outputs": [
        {
          "data": {
            "image/png": "[encoded data removed]",
            "text/plain": [
              "<Figure size 432x288 with 1 Axes>"
            ]
          },
          "metadata": {},
          "output_type": "display_data"
        }
      ],
      "source": [
        "# loss / epoch\n",
        "plt.plot(range(1, 11), train_loss, label='Train')\n",
        "plt.plot(range(1, 11), test_loss, label='Test')\n",
        "plt.xlabel(\"Epoch\")  \n",
        "plt.ylabel(\"Loss\") \n",
        "plt.title(\"Perdida por cada época\")  \n",
        "plt.legend()\n",
        "plt.show()"
      ]
    },
    {
      "cell_type": "markdown",
      "metadata": {
        "id": "QAeaFjOcp3Kj"
      },
      "source": [
        "### Conclusiones"
      ]
    },
    {
      "cell_type": "markdown",
      "metadata": {
        "id": "v2zI-QVgp5iE"
      },
      "source": [
        "- Por los resultados que se presentan en los gráficos pareciese que está bien encaminado utilizar *L2 Regularization*, pues la curva de perdida para la data de testing parece estar convergiendo a algo, por lo tanto se tratará de promover su uso en los intentos siguientes.\n",
        "- Pareciese que utilizar **Lambda = 1e-5** no produce cambios notorios, sin embargo para **Lambda = 1e-4** y **Lambda = 1e-3** se producen resultados más destacables."
      ]
    },
    {
      "cell_type": "markdown",
      "metadata": {
        "id": "12KWcH23T6vZ"
      },
      "source": [
        "## Entrenamiento Tercer Intento: Usando ADAM"
      ]
    },
    {
      "cell_type": "markdown",
      "metadata": {
        "id": "evi--Rpdu4x0"
      },
      "source": [
        "#### Learning rate 0.001"
      ]
    },
    {
      "cell_type": "code",
      "execution_count": null,
      "metadata": {
        "colab": {
          "base_uri": "https://localhost:8080/"
        },
        "id": "mxA5r3lEUaiO",
        "outputId": "e9b87c9d-8089-4458-81d7-9390accf3896"
      },
      "outputs": [
        {
          "name": "stdout",
          "output_type": "stream",
          "text": [
            "Epoch 1/10\n",
            "----------\n",
            "Training Loss: 0.5748 Acc: 0.7496\n",
            "Testing Loss: 1.4235 Acc: 0.6385\n",
            "Epoch 2/10\n",
            "----------\n",
            "Training Loss: 0.2969 Acc: 0.8794\n",
            "Testing Loss: 0.7118 Acc: 0.7197\n",
            "Epoch 3/10\n",
            "----------\n",
            "Training Loss: 0.2460 Acc: 0.8995\n",
            "Testing Loss: 1.0562 Acc: 0.6988\n",
            "Epoch 4/10\n",
            "----------\n",
            "Training Loss: 0.2325 Acc: 0.9073\n",
            "Testing Loss: 1.1990 Acc: 0.6389\n",
            "Epoch 5/10\n",
            "----------\n",
            "Training Loss: 0.2208 Acc: 0.9104\n",
            "Testing Loss: 1.7266 Acc: 0.6297\n",
            "Epoch 6/10\n",
            "----------\n",
            "Training Loss: 0.1984 Acc: 0.9213\n",
            "Testing Loss: 3.7448 Acc: 0.5468\n",
            "Epoch 7/10\n",
            "----------\n",
            "Training Loss: 0.1595 Acc: 0.9393\n",
            "Testing Loss: 1.0276 Acc: 0.7435\n",
            "Epoch 8/10\n",
            "----------\n",
            "Training Loss: 0.1265 Acc: 0.9511\n",
            "Testing Loss: 0.9937 Acc: 0.7334\n",
            "Epoch 9/10\n",
            "----------\n",
            "Training Loss: 0.1114 Acc: 0.9566\n",
            "Testing Loss: 0.9463 Acc: 0.7636\n",
            "Epoch 10/10\n",
            "----------\n",
            "Training Loss: 0.1046 Acc: 0.9577\n",
            "Testing Loss: 1.1332 Acc: 0.7266\n",
            "Training complete in 12m 39s\n",
            "Best Testing accucary: 0.7636\n"
          ]
        }
      ],
      "source": [
        "# Transfer Learning\n",
        "model_ft = models.resnet18(pretrained=True)\n",
        "\n",
        "num_ft = model_ft.fc.in_features\n",
        "model_ft.fc = nn.Linear(num_ft, 4)\n",
        "\n",
        "model_ft = model_ft.to(device)\n",
        "criterion = nn.CrossEntropyLoss()\n",
        "\n",
        "optimizer = torch.optim.Adam(model_ft.parameters(), lr=0.001)\n",
        "exp_lr_scheduler = torch.optim.lr_scheduler.StepLR(optimizer, step_size=7, gamma=0.1)\n",
        "\n",
        "model_ft, train_loss, test_loss = train_model(model_ft, criterion, optimizer, exp_lr_scheduler, 10)"
      ]
    },
    {
      "cell_type": "code",
      "execution_count": null,
      "metadata": {
        "colab": {
          "base_uri": "https://localhost:8080/"
        },
        "id": "5nsxwyuws81F",
        "outputId": "be5a7af9-39c2-4a92-dd53-3a400201cb11"
      },
      "outputs": [
        {
          "data": {
            "image/png": "[encoded data removed]",
            "text/plain": [
              "<Figure size 432x288 with 1 Axes>"
            ]
          },
          "metadata": {},
          "output_type": "display_data"
        }
      ],
      "source": [
        "# loss / epoch\n",
        "plt.plot(range(1, 11), train_loss, label='Train')\n",
        "plt.plot(range(1, 11), test_loss, label='Test')\n",
        "plt.xlabel(\"Epoch\")  \n",
        "plt.ylabel(\"Loss\") \n",
        "plt.title(\"Perdida por cada época\")  \n",
        "plt.legend()\n",
        "plt.show()"
      ]
    },
    {
      "cell_type": "markdown",
      "metadata": {
        "id": "wCkkbQ_Yu9FL"
      },
      "source": [
        "#### Learning rate 0.01"
      ]
    },
    {
      "cell_type": "code",
      "execution_count": null,
      "metadata": {
        "colab": {
          "base_uri": "https://localhost:8080/"
        },
        "id": "A4i-u0eo1vrx",
        "outputId": "5f681117-cadd-41e6-93a0-ee3188b36a1b"
      },
      "outputs": [
        {
          "name": "stdout",
          "output_type": "stream",
          "text": [
            "Epoch 1/10\n",
            "----------\n",
            "Training Loss: 1.6711 Acc: 0.2489\n",
            "Testing Loss: 1.3928 Acc: 0.2493\n",
            "Epoch 2/10\n",
            "----------\n",
            "Training Loss: 1.4099 Acc: 0.2660\n",
            "Testing Loss: 1.3895 Acc: 0.2384\n",
            "Epoch 3/10\n",
            "----------\n",
            "Training Loss: 1.2635 Acc: 0.3819\n",
            "Testing Loss: 9.4549 Acc: 0.2525\n",
            "Epoch 4/10\n",
            "----------\n",
            "Training Loss: 1.0545 Acc: 0.5508\n",
            "Testing Loss: 7.1856 Acc: 0.2614\n",
            "Epoch 5/10\n",
            "----------\n",
            "Training Loss: 0.8222 Acc: 0.6615\n",
            "Testing Loss: 1.5336 Acc: 0.5078\n",
            "Epoch 6/10\n",
            "----------\n",
            "Training Loss: 0.6778 Acc: 0.7099\n",
            "Testing Loss: 1.9365 Acc: 0.4009\n",
            "Epoch 7/10\n",
            "----------\n",
            "Training Loss: 0.5411 Acc: 0.7599\n",
            "Testing Loss: 0.6097 Acc: 0.7266\n",
            "Epoch 8/10\n",
            "----------\n",
            "Training Loss: 0.4840 Acc: 0.7847\n",
            "Testing Loss: 0.6382 Acc: 0.7141\n",
            "Epoch 9/10\n",
            "----------\n",
            "Training Loss: 0.4704 Acc: 0.8001\n",
            "Testing Loss: 0.6008 Acc: 0.7222\n",
            "Epoch 10/10\n",
            "----------\n",
            "Training Loss: 0.4419 Acc: 0.8047\n",
            "Testing Loss: 0.5818 Acc: 0.7374\n",
            "Training complete in 11m 35s\n",
            "Best Testing accucary: 0.7374\n"
          ]
        }
      ],
      "source": [
        "# Transfer Learning\n",
        "model_ft = models.resnet18(pretrained=True)\n",
        "\n",
        "num_ft = model_ft.fc.in_features\n",
        "model_ft.fc = nn.Linear(num_ft, 4)\n",
        "\n",
        "model_ft = model_ft.to(device)\n",
        "criterion = nn.CrossEntropyLoss()\n",
        "\n",
        "optimizer = torch.optim.Adam(model_ft.parameters(), lr=0.01)\n",
        "exp_lr_scheduler = torch.optim.lr_scheduler.StepLR(optimizer, step_size=7, gamma=0.1)\n",
        "\n",
        "model_ft, train_loss, test_loss = train_model(model_ft, criterion, optimizer, exp_lr_scheduler, 10)"
      ]
    },
    {
      "cell_type": "code",
      "execution_count": null,
      "metadata": {
        "colab": {
          "base_uri": "https://localhost:8080/",
          "height": 295
        },
        "id": "ckVA6cnF1xTZ",
        "outputId": "fa037ed1-f02b-4305-9eef-6b31447842f2"
      },
      "outputs": [
        {
          "data": {
            "image/png": "[encoded data removed]",
            "text/plain": [
              "<Figure size 432x288 with 1 Axes>"
            ]
          },
          "metadata": {},
          "output_type": "display_data"
        }
      ],
      "source": [
        "# loss / epoch\n",
        "plt.plot(range(1, 11), train_loss, label='Train')\n",
        "plt.plot(range(1, 11), test_loss, label='Test')\n",
        "plt.xlabel(\"Epoch\")  \n",
        "plt.ylabel(\"Loss\") \n",
        "plt.title(\"Perdida por cada época\")  \n",
        "plt.legend()\n",
        "plt.show()"
      ]
    },
    {
      "cell_type": "markdown",
      "metadata": {
        "id": "vjV7ZAd1svl9"
      },
      "source": [
        "### L2 Regularization"
      ]
    },
    {
      "cell_type": "markdown",
      "metadata": {
        "id": "5_i-sVqlvVQw"
      },
      "source": [
        "#### Learning rate 0.001"
      ]
    },
    {
      "cell_type": "code",
      "execution_count": null,
      "metadata": {
        "colab": {
          "base_uri": "https://localhost:8080/"
        },
        "id": "FphchJ3hszqo",
        "outputId": "29cc665d-7959-49f1-8a3e-c58ac030aa51"
      },
      "outputs": [
        {
          "name": "stdout",
          "output_type": "stream",
          "text": [
            "Epoch 1/10\n",
            "----------\n",
            "Training Loss: 0.5476 Acc: 0.7636\n",
            "Testing Loss: 1.1468 Acc: 0.6502\n",
            "Epoch 2/10\n",
            "----------\n",
            "Training Loss: 0.2918 Acc: 0.8815\n",
            "Testing Loss: 1.0446 Acc: 0.6409\n",
            "Epoch 3/10\n",
            "----------\n",
            "Training Loss: 0.2433 Acc: 0.9006\n",
            "Testing Loss: 1.3742 Acc: 0.6803\n",
            "Epoch 4/10\n",
            "----------\n",
            "Training Loss: 0.2324 Acc: 0.9074\n",
            "Testing Loss: 0.9083 Acc: 0.7218\n",
            "Epoch 5/10\n",
            "----------\n",
            "Training Loss: 0.2141 Acc: 0.9120\n",
            "Testing Loss: 1.2306 Acc: 0.6944\n",
            "Epoch 6/10\n",
            "----------\n",
            "Training Loss: 0.1940 Acc: 0.9239\n",
            "Testing Loss: 1.1041 Acc: 0.6618\n",
            "Epoch 7/10\n",
            "----------\n",
            "Training Loss: 0.1500 Acc: 0.9391\n",
            "Testing Loss: 1.1571 Acc: 0.7133\n",
            "Epoch 8/10\n",
            "----------\n",
            "Training Loss: 0.1245 Acc: 0.9513\n",
            "Testing Loss: 1.1163 Acc: 0.7214\n",
            "Epoch 9/10\n",
            "----------\n",
            "Training Loss: 0.1137 Acc: 0.9553\n",
            "Testing Loss: 1.0705 Acc: 0.7290\n",
            "Epoch 10/10\n",
            "----------\n",
            "Training Loss: 0.1034 Acc: 0.9603\n",
            "Testing Loss: 1.2887 Acc: 0.7125\n",
            "Training complete in 11m 55s\n",
            "Best Testing accucary: 0.7290\n"
          ]
        }
      ],
      "source": [
        "# Transfer Learning\n",
        "model_ft = models.resnet18(pretrained=True)\n",
        "\n",
        "num_ft = model_ft.fc.in_features\n",
        "model_ft.fc = nn.Linear(num_ft, 4)\n",
        "\n",
        "model_ft = model_ft.to(device)\n",
        "criterion = nn.CrossEntropyLoss()\n",
        "\n",
        "#L2 Regularization\n",
        "optimizer = torch.optim.Adam(model_ft.parameters(), lr=0.001, weight_decay=1e-4)\n",
        "exp_lr_scheduler = torch.optim.lr_scheduler.StepLR(optimizer, step_size=7, gamma=0.1)\n",
        "\n",
        "model_ft, train_loss, test_loss = train_model(model_ft, criterion, optimizer, exp_lr_scheduler, 10)"
      ]
    },
    {
      "cell_type": "code",
      "execution_count": null,
      "metadata": {
        "colab": {
          "base_uri": "https://localhost:8080/",
          "height": 295
        },
        "id": "Be_Vc1vqs9dB",
        "outputId": "a6448a35-ba3c-45d2-926d-8de6f4527aa7"
      },
      "outputs": [
        {
          "data": {
            "image/png": "[encoded data removed]",
            "text/plain": [
              "<Figure size 432x288 with 1 Axes>"
            ]
          },
          "metadata": {},
          "output_type": "display_data"
        }
      ],
      "source": [
        "# loss / epoch\n",
        "plt.plot(range(1, 11), train_loss, label='Train')\n",
        "plt.plot(range(1, 11), test_loss, label='Test')\n",
        "plt.xlabel(\"Epoch\")  \n",
        "plt.ylabel(\"Loss\") \n",
        "plt.title(\"Perdida por cada época\")  \n",
        "plt.legend()\n",
        "plt.show()"
      ]
    },
    {
      "cell_type": "markdown",
      "metadata": {
        "id": "vQPB3tuIvZHM"
      },
      "source": [
        "#### Learning rate 0.01"
      ]
    },
    {
      "cell_type": "code",
      "execution_count": null,
      "metadata": {
        "colab": {
          "base_uri": "https://localhost:8080/"
        },
        "id": "V2XTpPhIvb6e",
        "outputId": "8b25388f-d233-4ef6-8572-4b3b504c9cce"
      },
      "outputs": [
        {
          "name": "stdout",
          "output_type": "stream",
          "text": [
            "Epoch 1/10\n",
            "----------\n",
            "Training Loss: 1.6034 Acc: 0.2615\n",
            "Testing Loss: 2.5989 Acc: 0.2477\n",
            "Epoch 2/10\n",
            "----------\n",
            "Training Loss: 1.3985 Acc: 0.2849\n",
            "Testing Loss: 1.4152 Acc: 0.2493\n",
            "Epoch 3/10\n",
            "----------\n",
            "Training Loss: 1.3802 Acc: 0.3051\n",
            "Testing Loss: 1.3903 Acc: 0.2670\n",
            "Epoch 4/10\n",
            "----------\n",
            "Training Loss: 1.2701 Acc: 0.4251\n",
            "Testing Loss: 1.5574 Acc: 0.3040\n",
            "Epoch 5/10\n",
            "----------\n",
            "Training Loss: 1.1364 Acc: 0.4889\n",
            "Testing Loss: 4.3847 Acc: 0.2256\n",
            "Epoch 6/10\n",
            "----------\n",
            "Training Loss: 0.8283 Acc: 0.6470\n",
            "Testing Loss: 1.1053 Acc: 0.5103\n",
            "Epoch 7/10\n",
            "----------\n",
            "Training Loss: 0.6474 Acc: 0.7151\n",
            "Testing Loss: 0.7186 Acc: 0.6711\n",
            "Epoch 8/10\n",
            "----------\n",
            "Training Loss: 0.5747 Acc: 0.7467\n",
            "Testing Loss: 0.7336 Acc: 0.6663\n",
            "Epoch 9/10\n",
            "----------\n",
            "Training Loss: 0.5347 Acc: 0.7692\n",
            "Testing Loss: 0.6938 Acc: 0.6932\n",
            "Epoch 10/10\n",
            "----------\n",
            "Training Loss: 0.5145 Acc: 0.7689\n",
            "Testing Loss: 0.7964 Acc: 0.6594\n",
            "Training complete in 11m 51s\n",
            "Best Testing accucary: 0.6932\n"
          ]
        }
      ],
      "source": [
        "# Transfer Learning\n",
        "model_ft = models.resnet18(pretrained=True)\n",
        "\n",
        "num_ft = model_ft.fc.in_features\n",
        "model_ft.fc = nn.Linear(num_ft, 4)\n",
        "\n",
        "model_ft = model_ft.to(device)\n",
        "criterion = nn.CrossEntropyLoss()\n",
        "\n",
        "#L2 Regularization\n",
        "optimizer = torch.optim.Adam(model_ft.parameters(), lr=0.01, weight_decay=1e-4)\n",
        "exp_lr_scheduler = torch.optim.lr_scheduler.StepLR(optimizer, step_size=7, gamma=0.1)\n",
        "\n",
        "model_ft, train_loss, test_loss = train_model(model_ft, criterion, optimizer, exp_lr_scheduler, 10)"
      ]
    },
    {
      "cell_type": "code",
      "execution_count": null,
      "metadata": {
        "colab": {
          "base_uri": "https://localhost:8080/",
          "height": 295
        },
        "id": "89BVMcKEveH4",
        "outputId": "adee892e-c39a-4d3b-a8b9-803bfc46cebf"
      },
      "outputs": [
        {
          "data": {
            "image/png": "[encoded data removed]",
            "text/plain": [
              "<Figure size 432x288 with 1 Axes>"
            ]
          },
          "metadata": {},
          "output_type": "display_data"
        }
      ],
      "source": [
        "# loss / epoch\n",
        "plt.plot(range(1, 11), train_loss, label='Train')\n",
        "plt.plot(range(1, 11), test_loss, label='Test')\n",
        "plt.xlabel(\"Epoch\")  \n",
        "plt.ylabel(\"Loss\") \n",
        "plt.title(\"Perdida por cada época\")  \n",
        "plt.legend()\n",
        "plt.show()"
      ]
    },
    {
      "cell_type": "markdown",
      "metadata": {
        "id": "bo1_qnayD8kl"
      },
      "source": [
        "### Conclusiones"
      ]
    },
    {
      "cell_type": "markdown",
      "metadata": {
        "id": "zLnFuIufEEVM"
      },
      "source": [
        "- Tal parece que intentar acelerar la convergencia empeora la situación del overfitting, sin embargo se obtuvieron resultados mejores para testing también.\n",
        "- Como Adam hace converger más rápido hacia un mínimo local, se tratará de usar learning rates más altos en el siguiente intento para ver si la aleatoriedad de los saltos (es decir, cómo se actualizan los parámetros) llega en algún momento a un buen mínimo local, pues este modelo en algún momento por mera aleatoriedad tuvo un accuracy de poco más de 76%, es decir más alto de los que se venían viendo. Por lo que se intentará usar Adam pero evitando el overfitting en la medida de lo posible."
      ]
    },
    {
      "cell_type": "markdown",
      "metadata": {
        "id": "hGIMfeH7V0pi"
      },
      "source": [
        "## Entrenamiento Cuarto Intento: Usando Distintos Learning rates"
      ]
    },
    {
      "cell_type": "markdown",
      "metadata": {
        "id": "sCYyQVuFF-qm"
      },
      "source": [
        "### Learning rate 0.1"
      ]
    },
    {
      "cell_type": "markdown",
      "metadata": {
        "id": "N27pusdu3rG9"
      },
      "source": [
        "#### SDG"
      ]
    },
    {
      "cell_type": "code",
      "execution_count": null,
      "metadata": {
        "colab": {
          "base_uri": "https://localhost:8080/"
        },
        "id": "k4hB8-87VzUd",
        "outputId": "c3b81304-08d5-4d1b-bc1e-74fb8fd55529"
      },
      "outputs": [
        {
          "name": "stdout",
          "output_type": "stream",
          "text": [
            "Epoch 1/20\n",
            "----------\n",
            "Training Loss: 3.5810 Acc: 0.2511\n",
            "Testing Loss: 2.5319 Acc: 0.2509\n",
            "Epoch 2/20\n",
            "----------\n",
            "Training Loss: 1.9958 Acc: 0.2502\n",
            "Testing Loss: 1.6585 Acc: 0.2437\n",
            "Epoch 3/20\n",
            "----------\n",
            "Training Loss: 1.8433 Acc: 0.2497\n",
            "Testing Loss: 1.5877 Acc: 0.2493\n",
            "Epoch 4/20\n",
            "----------\n",
            "Training Loss: 1.5189 Acc: 0.2485\n",
            "Testing Loss: 1.3938 Acc: 0.2513\n",
            "Epoch 5/20\n",
            "----------\n",
            "Training Loss: 1.3919 Acc: 0.2508\n",
            "Testing Loss: 1.3892 Acc: 0.2417\n",
            "Epoch 6/20\n",
            "----------\n",
            "Training Loss: 1.3903 Acc: 0.2515\n",
            "Testing Loss: 1.3935 Acc: 0.2517\n",
            "Epoch 7/20\n",
            "----------\n",
            "Training Loss: 1.3885 Acc: 0.2483\n",
            "Testing Loss: 1.3867 Acc: 0.2517\n",
            "Epoch 8/20\n",
            "----------\n",
            "Training Loss: 1.3868 Acc: 0.2494\n",
            "Testing Loss: 1.3870 Acc: 0.2557\n",
            "Epoch 9/20\n",
            "----------\n",
            "Training Loss: 1.3866 Acc: 0.2486\n",
            "Testing Loss: 1.3865 Acc: 0.2469\n",
            "Epoch 10/20\n",
            "----------\n",
            "Training Loss: 1.3867 Acc: 0.2462\n",
            "Testing Loss: 1.3859 Acc: 0.2525\n",
            "Epoch 11/20\n",
            "----------\n",
            "Training Loss: 1.3868 Acc: 0.2443\n",
            "Testing Loss: 1.3864 Acc: 0.2545\n",
            "Epoch 12/20\n",
            "----------\n",
            "Training Loss: 1.3869 Acc: 0.2381\n",
            "Testing Loss: 1.3878 Acc: 0.2449\n",
            "Epoch 13/20\n",
            "----------\n",
            "Training Loss: 1.3869 Acc: 0.2422\n",
            "Testing Loss: 1.3870 Acc: 0.2557\n",
            "Epoch 14/20\n",
            "----------\n",
            "Training Loss: 1.3862 Acc: 0.2551\n",
            "Testing Loss: 1.3860 Acc: 0.2477\n",
            "Epoch 15/20\n",
            "----------\n",
            "Training Loss: 1.3863 Acc: 0.2505\n",
            "Testing Loss: 1.3858 Acc: 0.2561\n",
            "Epoch 16/20\n",
            "----------\n",
            "Training Loss: 1.3864 Acc: 0.2522\n",
            "Testing Loss: 1.3860 Acc: 0.2525\n",
            "Epoch 17/20\n",
            "----------\n",
            "Training Loss: 1.3864 Acc: 0.2448\n",
            "Testing Loss: 1.3867 Acc: 0.2489\n",
            "Epoch 18/20\n",
            "----------\n",
            "Training Loss: 1.3864 Acc: 0.2505\n",
            "Testing Loss: 1.3863 Acc: 0.2497\n",
            "Epoch 19/20\n",
            "----------\n",
            "Training Loss: 1.3865 Acc: 0.2488\n",
            "Testing Loss: 1.3865 Acc: 0.2521\n",
            "Epoch 20/20\n",
            "----------\n",
            "Training Loss: 1.3861 Acc: 0.2565\n",
            "Testing Loss: 1.3864 Acc: 0.2485\n",
            "Training complete in 23m 52s\n",
            "Best Testing accucary: 0.2561\n"
          ]
        }
      ],
      "source": [
        "# Transfer Learning\n",
        "model_ft = models.resnet18(pretrained=True)\n",
        "\n",
        "num_ft = model_ft.fc.in_features\n",
        "model_ft.fc = nn.Linear(num_ft, 4)\n",
        "\n",
        "model_ft = model_ft.to(device)\n",
        "criterion = nn.CrossEntropyLoss()\n",
        "\n",
        "optimizer = torch.optim.SGD(model_ft.parameters(), lr=0.1, momentum=0.9)\n",
        "exp_lr_scheduler = torch.optim.lr_scheduler.StepLR(optimizer, step_size=7, gamma=0.1)\n",
        "\n",
        "model_ft, train_loss, test_loss = train_model(model_ft, criterion, optimizer, exp_lr_scheduler, 20)"
      ]
    },
    {
      "cell_type": "code",
      "execution_count": null,
      "metadata": {
        "colab": {
          "base_uri": "https://localhost:8080/",
          "height": 295
        },
        "id": "bQU7J07eF3lk",
        "outputId": "9ed912e6-7303-42a1-b6cf-7666515fe460"
      },
      "outputs": [
        {
          "data": {
            "image/png": "[encoded data removed]",
            "text/plain": [
              "<Figure size 432x288 with 1 Axes>"
            ]
          },
          "metadata": {},
          "output_type": "display_data"
        }
      ],
      "source": [
        "# loss / epoch\n",
        "plt.plot(range(1, 21), train_loss, label='Train')\n",
        "plt.plot(range(1, 21), test_loss, label='Test')\n",
        "plt.xlabel(\"Epoch\")  \n",
        "plt.ylabel(\"Loss\") \n",
        "plt.title(\"Perdida por cada época\")  \n",
        "plt.legend()\n",
        "plt.show()"
      ]
    },
    {
      "cell_type": "markdown",
      "metadata": {
        "id": "DIKuwf7d3uVG"
      },
      "source": [
        "#### Adam"
      ]
    },
    {
      "cell_type": "code",
      "execution_count": null,
      "metadata": {
        "colab": {
          "base_uri": "https://localhost:8080/"
        },
        "id": "eFNPsjYE3xk-",
        "outputId": "e515f327-3304-4c7b-926d-aeccdf13e331"
      },
      "outputs": [
        {
          "output_type": "stream",
          "name": "stdout",
          "text": [
            "Epoch 1/10\n",
            "----------\n",
            "Training Loss: 3.6509 Acc: 0.2467\n",
            "Testing Loss: 3.0738 Acc: 0.2453\n",
            "Epoch 2/10\n",
            "----------\n",
            "Training Loss: 1.4146 Acc: 0.2389\n",
            "Testing Loss: 1.3950 Acc: 0.2469\n",
            "Epoch 3/10\n",
            "----------\n",
            "Training Loss: 1.4011 Acc: 0.2417\n",
            "Testing Loss: 1.3930 Acc: 0.2529\n",
            "Epoch 4/10\n",
            "----------\n",
            "Training Loss: 1.3974 Acc: 0.2471\n",
            "Testing Loss: 1.3977 Acc: 0.2541\n",
            "Epoch 5/10\n",
            "----------\n",
            "Training Loss: 1.3905 Acc: 0.2492\n",
            "Testing Loss: 1.3911 Acc: 0.2493\n",
            "Epoch 6/10\n",
            "----------\n",
            "Training Loss: 1.3882 Acc: 0.2440\n",
            "Testing Loss: 1.3872 Acc: 0.2501\n",
            "Epoch 7/10\n",
            "----------\n",
            "Training Loss: 1.3869 Acc: 0.2509\n",
            "Testing Loss: 1.3862 Acc: 0.2501\n",
            "Epoch 8/10\n",
            "----------\n",
            "Training Loss: 1.3864 Acc: 0.2464\n",
            "Testing Loss: 1.3864 Acc: 0.2493\n",
            "Epoch 9/10\n",
            "----------\n",
            "Training Loss: 1.3865 Acc: 0.2460\n",
            "Testing Loss: 1.3864 Acc: 0.2437\n",
            "Epoch 10/10\n",
            "----------\n",
            "Training Loss: 1.3864 Acc: 0.2483\n",
            "Testing Loss: 1.3863 Acc: 0.2521\n",
            "Training complete in 11m 20s\n",
            "Best Testing accucary: 0.2541\n"
          ]
        }
      ],
      "source": [
        "# Transfer Learning\n",
        "model_ft = models.resnet18(pretrained=True)\n",
        "\n",
        "num_ft = model_ft.fc.in_features\n",
        "model_ft.fc = nn.Linear(num_ft, 4)\n",
        "\n",
        "model_ft = model_ft.to(device)\n",
        "criterion = nn.CrossEntropyLoss()\n",
        "\n",
        "optimizer = torch.optim.Adam(model_ft.parameters(), lr=0.1)\n",
        "exp_lr_scheduler = torch.optim.lr_scheduler.StepLR(optimizer, step_size=7, gamma=0.1)\n",
        "\n",
        "model_ft, train_loss, test_loss = train_model(model_ft, criterion, optimizer, exp_lr_scheduler, 10)"
      ]
    },
    {
      "cell_type": "code",
      "execution_count": null,
      "metadata": {
        "colab": {
          "base_uri": "https://localhost:8080/",
          "height": 295
        },
        "id": "P2yATzuI34el",
        "outputId": "3f27f3d7-5680-4807-8ef0-ccc4b4883c4b"
      },
      "outputs": [
        {
          "output_type": "display_data",
          "data": {
            "text/plain": [
              "<Figure size 432x288 with 1 Axes>"
            ],
            "image/png": "[encoded data removed]"
          },
          "metadata": {
            "needs_background": "light"
          }
        }
      ],
      "source": [
        "# loss / epoch\n",
        "t_loss = [min(i, 3) for i in test_loss]\n",
        "tr_loss = [min(i, 3) for i in train_loss]\n",
        "plt.plot(range(1, 11), tr_loss, label='Train')\n",
        "plt.plot(range(1, 11), t_loss, label='Test')\n",
        "plt.xlabel(\"Epoch\")  \n",
        "plt.ylabel(\"Loss\") \n",
        "plt.title(\"Perdida por cada época\")  \n",
        "plt.legend()\n",
        "plt.show()"
      ]
    },
    {
      "cell_type": "markdown",
      "metadata": {
        "id": "YnxOUtiaGb1_"
      },
      "source": [
        "### Learning rate 0.5"
      ]
    },
    {
      "cell_type": "markdown",
      "metadata": {
        "id": "le4AEXjD7Tzh"
      },
      "source": [
        "#### SDG"
      ]
    },
    {
      "cell_type": "code",
      "execution_count": null,
      "metadata": {
        "colab": {
          "base_uri": "https://localhost:8080/"
        },
        "id": "hmRlHCclGfm_",
        "outputId": "b3bf9d55-bce0-4bbb-f401-2a7a82b30fda"
      },
      "outputs": [
        {
          "name": "stdout",
          "output_type": "stream",
          "text": [
            "Epoch 1/20\n",
            "----------\n",
            "Training Loss: 8.9255 Acc: 0.2658\n",
            "Testing Loss: 16.6428 Acc: 0.2380\n",
            "Epoch 2/20\n",
            "----------\n",
            "Training Loss: 1.3827 Acc: 0.3251\n",
            "Testing Loss: 1.3768 Acc: 0.3185\n",
            "Epoch 3/20\n",
            "----------\n",
            "Training Loss: 1.3168 Acc: 0.3624\n",
            "Testing Loss: 1.3582 Acc: 0.2907\n",
            "Epoch 4/20\n",
            "----------\n",
            "Training Loss: 1.2655 Acc: 0.4143\n",
            "Testing Loss: 1.2726 Acc: 0.3836\n",
            "Epoch 5/20\n",
            "----------\n",
            "Training Loss: 1.2318 Acc: 0.4405\n",
            "Testing Loss: 1.3115 Acc: 0.3663\n",
            "Epoch 6/20\n",
            "----------\n",
            "Training Loss: 1.1973 Acc: 0.4605\n",
            "Testing Loss: 1.2423 Acc: 0.4302\n",
            "Epoch 7/20\n",
            "----------\n",
            "Training Loss: 1.1739 Acc: 0.4792\n",
            "Testing Loss: 1.2491 Acc: 0.4125\n",
            "Epoch 8/20\n",
            "----------\n",
            "Training Loss: 1.1602 Acc: 0.4871\n",
            "Testing Loss: 1.2580 Acc: 0.4178\n",
            "Epoch 9/20\n",
            "----------\n",
            "Training Loss: 1.1506 Acc: 0.4865\n",
            "Testing Loss: 1.2616 Acc: 0.4138\n",
            "Epoch 10/20\n",
            "----------\n",
            "Training Loss: 1.1533 Acc: 0.4859\n",
            "Testing Loss: 1.2373 Acc: 0.4125\n",
            "Epoch 11/20\n",
            "----------\n",
            "Training Loss: 1.1357 Acc: 0.4954\n",
            "Testing Loss: 1.2345 Acc: 0.4266\n",
            "Epoch 12/20\n",
            "----------\n",
            "Training Loss: 1.1298 Acc: 0.4990\n",
            "Testing Loss: 1.1984 Acc: 0.4536\n",
            "Epoch 13/20\n",
            "----------\n",
            "Training Loss: 1.1071 Acc: 0.5187\n",
            "Testing Loss: 1.1878 Acc: 0.4696\n",
            "Epoch 14/20\n",
            "----------\n",
            "Training Loss: 1.1013 Acc: 0.5222\n",
            "Testing Loss: 1.2227 Acc: 0.4415\n",
            "Epoch 15/20\n",
            "----------\n",
            "Training Loss: 1.1028 Acc: 0.5221\n",
            "Testing Loss: 1.2288 Acc: 0.4230\n",
            "Epoch 16/20\n",
            "----------\n",
            "Training Loss: 1.1059 Acc: 0.5112\n",
            "Testing Loss: 1.2034 Acc: 0.4435\n",
            "Epoch 17/20\n",
            "----------\n",
            "Training Loss: 1.0938 Acc: 0.5313\n",
            "Testing Loss: 1.2228 Acc: 0.4479\n",
            "Epoch 18/20\n",
            "----------\n",
            "Training Loss: 1.0945 Acc: 0.5291\n",
            "Testing Loss: 1.2003 Acc: 0.4483\n",
            "Epoch 19/20\n",
            "----------\n",
            "Training Loss: 1.0906 Acc: 0.5334\n",
            "Testing Loss: 1.1958 Acc: 0.4455\n",
            "Epoch 20/20\n",
            "----------\n",
            "Training Loss: 1.0786 Acc: 0.5388\n",
            "Testing Loss: 1.2032 Acc: 0.4443\n",
            "Training complete in 23m 47s\n",
            "Best Testing accucary: 0.4696\n"
          ]
        }
      ],
      "source": [
        "# Transfer Learning\n",
        "model_ft = models.resnet18(pretrained=True)\n",
        "\n",
        "# Dropout 25%\n",
        "model_ft.dropout = nn.Dropout(0.25)\n",
        "\n",
        "num_ft = model_ft.fc.in_features\n",
        "model_ft.fc = nn.Linear(num_ft, 4)\n",
        "\n",
        "model_ft = model_ft.to(device)\n",
        "criterion = nn.CrossEntropyLoss()\n",
        "\n",
        "optimizer = torch.optim.SGD(model_ft.parameters(), lr=0.5, momentum=0.9)\n",
        "exp_lr_scheduler = torch.optim.lr_scheduler.StepLR(optimizer, step_size=7, gamma=0.1)\n",
        "\n",
        "model_ft, train_loss, test_loss = train_model(model_ft, criterion, optimizer, exp_lr_scheduler, 20)"
      ]
    },
    {
      "cell_type": "code",
      "execution_count": null,
      "metadata": {
        "colab": {
          "base_uri": "https://localhost:8080/",
          "height": 295
        },
        "id": "40PugawRGhM1",
        "outputId": "cd04fb37-ea33-475f-891e-2ad9a63780c7"
      },
      "outputs": [
        {
          "data": {
            "image/png": "[encoded data removed]",
            "text/plain": [
              "<Figure size 432x288 with 1 Axes>"
            ]
          },
          "metadata": {},
          "output_type": "display_data"
        }
      ],
      "source": [
        "# loss / epoch\n",
        "plt.plot(range(1, 21), train_loss, label='Train')\n",
        "plt.plot(range(1, 21), test_loss, label='Test')\n",
        "plt.xlabel(\"Epoch\")  \n",
        "plt.ylabel(\"Loss\") \n",
        "plt.title(\"Perdida por cada época\")  \n",
        "plt.legend()\n",
        "plt.show()"
      ]
    },
    {
      "cell_type": "markdown",
      "metadata": {
        "id": "Gf8CDc_F7WHo"
      },
      "source": [
        "#### Adam"
      ]
    },
    {
      "cell_type": "code",
      "execution_count": null,
      "metadata": {
        "colab": {
          "base_uri": "https://localhost:8080/"
        },
        "id": "L6v0uKEe7ZBf",
        "outputId": "7eefa4c9-fcf3-43fe-a57a-2ef437a52c70"
      },
      "outputs": [
        {
          "output_type": "stream",
          "name": "stdout",
          "text": [
            "Epoch 1/10\n",
            "----------\n",
            "Training Loss: 14.2647 Acc: 0.2539\n",
            "Testing Loss: 5.0067 Acc: 0.2461\n",
            "Epoch 2/10\n",
            "----------\n",
            "Training Loss: 1.4483 Acc: 0.2474\n",
            "Testing Loss: 1.4209 Acc: 0.2477\n",
            "Epoch 3/10\n",
            "----------\n",
            "Training Loss: 1.3919 Acc: 0.2487\n",
            "Testing Loss: 1.3879 Acc: 0.2529\n",
            "Epoch 4/10\n",
            "----------\n",
            "Training Loss: 1.3910 Acc: 0.2498\n",
            "Testing Loss: 1.3909 Acc: 0.2557\n",
            "Epoch 5/10\n",
            "----------\n",
            "Training Loss: 1.3901 Acc: 0.2483\n",
            "Testing Loss: 1.3877 Acc: 0.2493\n",
            "Epoch 6/10\n",
            "----------\n",
            "Training Loss: 1.3912 Acc: 0.2465\n",
            "Testing Loss: 1.3966 Acc: 0.2485\n",
            "Epoch 7/10\n",
            "----------\n",
            "Training Loss: 1.3894 Acc: 0.2435\n",
            "Testing Loss: 1.3873 Acc: 0.2457\n",
            "Epoch 8/10\n",
            "----------\n",
            "Training Loss: 1.3867 Acc: 0.2485\n",
            "Testing Loss: 1.3867 Acc: 0.2473\n",
            "Epoch 9/10\n",
            "----------\n",
            "Training Loss: 1.3868 Acc: 0.2433\n",
            "Testing Loss: 1.3865 Acc: 0.2505\n",
            "Epoch 10/10\n",
            "----------\n",
            "Training Loss: 1.3865 Acc: 0.2526\n",
            "Testing Loss: 1.3872 Acc: 0.2465\n",
            "Training complete in 11m 16s\n",
            "Best Testing accucary: 0.2557\n"
          ]
        }
      ],
      "source": [
        "# Transfer Learning\n",
        "model_ft = models.resnet18(pretrained=True)\n",
        "\n",
        "num_ft = model_ft.fc.in_features\n",
        "model_ft.fc = nn.Linear(num_ft, 4)\n",
        "\n",
        "model_ft = model_ft.to(device)\n",
        "criterion = nn.CrossEntropyLoss()\n",
        "\n",
        "optimizer = torch.optim.Adam(model_ft.parameters(), lr=0.5)\n",
        "exp_lr_scheduler = torch.optim.lr_scheduler.StepLR(optimizer, step_size=7, gamma=0.1)\n",
        "\n",
        "model_ft, train_loss, test_loss = train_model(model_ft, criterion, optimizer, exp_lr_scheduler, 10)"
      ]
    },
    {
      "cell_type": "code",
      "execution_count": null,
      "metadata": {
        "colab": {
          "base_uri": "https://localhost:8080/"
        },
        "id": "gVBQ0XyO7axC",
        "outputId": "244bb584-7381-4744-c220-bd8b2d080a50"
      },
      "outputs": [
        {
          "output_type": "display_data",
          "data": {
            "text/plain": [
              "<Figure size 432x288 with 1 Axes>"
            ],
            "image/png": "[encoded data removed]"
          },
          "metadata": {
            "needs_background": "light"
          }
        }
      ],
      "source": [
        "# loss / epoch\n",
        "t_loss = [min(i, 3) for i in test_loss]\n",
        "tr_loss = [min(i, 3) for i in train_loss]\n",
        "plt.plot(range(1, 11), tr_loss, label='Train')\n",
        "plt.plot(range(1, 11), t_loss, label='Test')\n",
        "plt.xlabel(\"Epoch\")  \n",
        "plt.ylabel(\"Loss\") \n",
        "plt.title(\"Perdida por cada época\")  \n",
        "plt.legend()\n",
        "plt.show()"
      ]
    },
    {
      "cell_type": "markdown",
      "metadata": {
        "id": "yl2XEnWUGpeh"
      },
      "source": [
        "### Conclusiones"
      ]
    },
    {
      "cell_type": "markdown",
      "metadata": {
        "id": "pQgoWUbiGrLy"
      },
      "source": [
        "- Cabe destacar que esta sección existe más por la curiosidad de ver qué sucede más que con la esperanza de que sea un buen método para obtener mejores resultados.\n",
        "- Pese al punto anterior se obtuvieron resultados bastante prometedores, pues, pese a que no hay mayor porcentaje de accuracy, sí hay un mayor equilibrio entre la data de training y la data de testing, además de que hay leves mejoras en cada iteración, por lo que en un futuro intento se harán más interaciones para analizar los resultados.\n",
        "- Como último intento antes de probar con los mejores resultados, se utilizará una red distinta.\n",
        "- Pareciese que la capa convolucional hace bien su trabajo, pues la data de training en algunos casos podía clasificarlos demasiado bien, el gran problema es el overfitting. Sin embargo con estos resultados puede que haya esperanza con un learning rate más alto."
      ]
    },
    {
      "cell_type": "markdown",
      "metadata": {
        "id": "z0QCPdwTWCN1"
      },
      "source": [
        "## Entrenamiento Quinto Intento: Usando una Red distinta"
      ]
    },
    {
      "cell_type": "code",
      "execution_count": null,
      "metadata": {
        "colab": {
          "base_uri": "https://localhost:8080/",
          "height": 180,
          "referenced_widgets": [
            "49704beb1c3b40bca7143df8835f0cfd",
            "f2bd4644898c4a61a3d60b78d844fe75",
            "81ee9f94cf984e6388d58a4c183c976b",
            "73fa4936c29249b299e02f71708e1fe5",
            "3e329e8aedbd4f16a20bcbd0cfc2e41d",
            "beea365b7f5643d990993450ed0d3c40",
            "ea1ec0537b634e1c8e45ff76ead4b593",
            "47e23d583502483ca8c8bf421ee1811e",
            "6ef9f3bc57844a80a96030c916cb11e3",
            "8d6471ed5bbd47808600df7845d7a8d7",
            "ef44afb6d17f400c81eaaa77daeb34e4"
          ]
        },
        "id": "jEobLr3hWHw4",
        "outputId": "33b04bd6-5f5a-4158-f76a-8e281df8bc61"
      },
      "outputs": [
        {
          "name": "stderr",
          "output_type": "stream",
          "text": [
            "Downloading: \"https://github.com/pytorch/vision/zipball/v0.10.0\" to /root/.cache/torch/hub/v0.10.0.zip\n",
            "/usr/local/lib/python3.7/dist-packages/torchvision/models/_utils.py:209: UserWarning: The parameter 'pretrained' is deprecated since 0.13 and will be removed in 0.15, please use 'weights' instead.\n",
            "  f\"The parameter '{pretrained_param}' is deprecated since 0.13 and will be removed in 0.15, \"\n",
            "/usr/local/lib/python3.7/dist-packages/torchvision/models/_utils.py:223: UserWarning: Arguments other than a weight enum or `None` for 'weights' are deprecated since 0.13 and will be removed in 0.15. The current behavior is equivalent to passing `weights=GoogLeNet_Weights.IMAGENET1K_V1`. You can also use `weights=GoogLeNet_Weights.DEFAULT` to get the most up-to-date weights.\n",
            "  warnings.warn(msg)\n",
            "Downloading: \"https://download.pytorch.org/models/googlenet-1378be20.pth\" to /root/.cache/torch/hub/checkpoints/googlenet-1378be20.pth\n"
          ]
        },
        {
          "data": {
            "application/vnd.jupyter.widget-view+json": {
              "model_id": "49704beb1c3b40bca7143df8835f0cfd",
              "version_major": 2,
              "version_minor": 0
            },
            "text/plain": [
              "  0%|          | 0.00/49.7M [00:00<?, ?B/s]"
            ]
          },
          "metadata": {},
          "output_type": "display_data"
        }
      ],
      "source": [
        "import torch\n",
        "# Transfer Learning\n",
        "model_ft = torch.hub.load('pytorch/vision:v0.10.0', 'googlenet', pretrained=True)"
      ]
    },
    {
      "cell_type": "code",
      "execution_count": null,
      "metadata": {
        "colab": {
          "base_uri": "https://localhost:8080/"
        },
        "id": "aTsrbU87GPqm",
        "outputId": "f26d959c-2b20-4b43-e506-cfc3ae28ba7c"
      },
      "outputs": [
        {
          "name": "stdout",
          "output_type": "stream",
          "text": [
            "Epoch 1/10\n",
            "----------\n"
          ]
        },
        {
          "name": "stderr",
          "output_type": "stream",
          "text": [
            "/usr/local/lib/python3.7/dist-packages/torch/optim/lr_scheduler.py:136: UserWarning: Detected call of `lr_scheduler.step()` before `optimizer.step()`. In PyTorch 1.1.0 and later, you should call them in the opposite order: `optimizer.step()` before `lr_scheduler.step()`.  Failure to do this will result in PyTorch skipping the first value of the learning rate schedule. See more details at https://pytorch.org/docs/stable/optim.html#how-to-adjust-learning-rate\n",
            "  \"https://pytorch.org/docs/stable/optim.html#how-to-adjust-learning-rate\", UserWarning)\n"
          ]
        },
        {
          "name": "stdout",
          "output_type": "stream",
          "text": [
            "Training Loss: 2.9471 Acc: 0.2520\n",
            "Testing Loss: 2.3758 Acc: 0.2457\n",
            "Epoch 2/10\n",
            "----------\n",
            "Training Loss: 1.4200 Acc: 0.2534\n",
            "Testing Loss: 1.4092 Acc: 0.2489\n",
            "Epoch 3/10\n",
            "----------\n",
            "Training Loss: 1.4015 Acc: 0.2508\n",
            "Testing Loss: 1.4674 Acc: 0.2489\n",
            "Epoch 4/10\n",
            "----------\n",
            "Training Loss: 1.3951 Acc: 0.2547\n",
            "Testing Loss: 1.4986 Acc: 0.2525\n",
            "Epoch 5/10\n",
            "----------\n",
            "Training Loss: 1.3961 Acc: 0.2511\n",
            "Testing Loss: 1.4308 Acc: 0.2513\n",
            "Epoch 6/10\n",
            "----------\n",
            "Training Loss: 1.3948 Acc: 0.2491\n",
            "Testing Loss: 1.4005 Acc: 0.2505\n",
            "Epoch 7/10\n",
            "----------\n",
            "Training Loss: 1.3884 Acc: 0.2537\n",
            "Testing Loss: 1.3948 Acc: 0.2493\n",
            "Epoch 8/10\n",
            "----------\n",
            "Training Loss: 1.3873 Acc: 0.2448\n",
            "Testing Loss: 1.3923 Acc: 0.2493\n",
            "Epoch 9/10\n",
            "----------\n",
            "Training Loss: 1.3877 Acc: 0.2452\n",
            "Testing Loss: 1.3874 Acc: 0.2501\n",
            "Epoch 10/10\n",
            "----------\n",
            "Training Loss: 1.3882 Acc: 0.2437\n",
            "Testing Loss: 1.3870 Acc: 0.2505\n",
            "Training complete in 13m 24s\n",
            "Best Testing accucary: 0.2525\n"
          ]
        }
      ],
      "source": [
        "num_ft = model_ft.fc.in_features\n",
        "model_ft.fc = nn.Linear(num_ft, 4, bias=True)\n",
        "\n",
        "model_ft = model_ft.to(device)\n",
        "criterion = nn.CrossEntropyLoss()\n",
        "\n",
        "optimizer = torch.optim.SGD(model_ft.parameters(), lr=0.5, momentum=0.9)\n",
        "exp_lr_scheduler = torch.optim.lr_scheduler.StepLR(optimizer, step_size=7, gamma=0.1)\n",
        "\n",
        "model_ft, train_loss, test_loss = train_model(model_ft, criterion, optimizer, exp_lr_scheduler, 10)"
      ]
    },
    {
      "cell_type": "code",
      "execution_count": null,
      "metadata": {
        "colab": {
          "base_uri": "https://localhost:8080/",
          "height": 295
        },
        "id": "s3vNNqS4uoYW",
        "outputId": "6400dad5-f802-4470-9fe4-244b0e470950"
      },
      "outputs": [
        {
          "data": {
            "image/png": "[encoded data removed]",
            "text/plain": [
              "<Figure size 432x288 with 1 Axes>"
            ]
          },
          "metadata": {},
          "output_type": "display_data"
        }
      ],
      "source": [
        "# loss / epoch\n",
        "plt.plot(range(1, 11), train_loss, label='Train')\n",
        "plt.plot(range(1, 11), test_loss, label='Test')\n",
        "plt.xlabel(\"Epoch\")  \n",
        "plt.ylabel(\"Loss\") \n",
        "plt.title(\"Perdida por cada época\")  \n",
        "plt.legend()\n",
        "plt.show()"
      ]
    },
    {
      "cell_type": "markdown",
      "metadata": {
        "id": "Ts8WFVKM1XOn"
      },
      "source": [
        "### Conclusiones"
      ]
    },
    {
      "cell_type": "markdown",
      "metadata": {
        "id": "9DxCiBfu1Zfr"
      },
      "source": [
        "- GoogLeNet no parece tener el potencial necesario para poder aprender de la data.\n",
        "- VGG no se pudo utilizar por falta de memoria."
      ]
    },
    {
      "cell_type": "markdown",
      "metadata": {
        "id": "FMjK7z2HSSKu"
      },
      "source": [
        "## Entrenamiento Sexto Intento Intento: Más Épocas"
      ]
    },
    {
      "cell_type": "markdown",
      "source": [
        "### Learning rate 0.001"
      ],
      "metadata": {
        "id": "-3LvCGH734Ba"
      }
    },
    {
      "cell_type": "code",
      "source": [
        "# Transfer Learning\n",
        "model_ft = models.resnet18(pretrained=True)\n",
        "\n",
        "num_ft = model_ft.fc.in_features\n",
        "model_ft.fc = nn.Linear(num_ft, 4)\n",
        "\n",
        "model_ft = model_ft.to(device)\n",
        "criterion = nn.CrossEntropyLoss()\n",
        "\n",
        "optimizer = torch.optim.Adam(model_ft.parameters(), lr=0.001)\n",
        "exp_lr_scheduler = torch.optim.lr_scheduler.StepLR(optimizer, step_size=7, gamma=0.1)\n",
        "\n",
        "model_ft, train_loss, test_loss = train_model(model_ft, criterion, optimizer, exp_lr_scheduler, 20)"
      ],
      "metadata": {
        "colab": {
          "base_uri": "https://localhost:8080/",
          "height": 1000,
          "referenced_widgets": [
            "0cd4ae2599204a64a567d61f7cfba1b9",
            "7a8be20b656f42ad8cfd167b74de8e31",
            "b6bff1f3257e4a599a1589e54f90f1d6",
            "64476ca4aa5548608e65385ff307db66",
            "25a3ff31bf574e2d91ad0e50b76e3213",
            "4e6ae0d8885e4f4e9f5de740d05698f5",
            "956b931e0e834710895e25fb86fb0a93",
            "90fedd3517c543b3882db9dc23ea3338",
            "0dbe9cce09404b2b8ca1de27217c2bfb",
            "f7f0cc1712ac40c7b746f7d8c516bdd8",
            "ababc700b4364d9d81aac4948fdeea93"
          ]
        },
        "id": "vQCH00ms39eL",
        "outputId": "73c98841-b5bc-494f-debc-3eb0681bbecd"
      },
      "execution_count": null,
      "outputs": [
        {
          "output_type": "stream",
          "name": "stderr",
          "text": [
            "/usr/local/lib/python3.7/dist-packages/torchvision/models/_utils.py:209: UserWarning: The parameter 'pretrained' is deprecated since 0.13 and will be removed in 0.15, please use 'weights' instead.\n",
            "  f\"The parameter '{pretrained_param}' is deprecated since 0.13 and will be removed in 0.15, \"\n",
            "/usr/local/lib/python3.7/dist-packages/torchvision/models/_utils.py:223: UserWarning: Arguments other than a weight enum or `None` for 'weights' are deprecated since 0.13 and will be removed in 0.15. The current behavior is equivalent to passing `weights=ResNet18_Weights.IMAGENET1K_V1`. You can also use `weights=ResNet18_Weights.DEFAULT` to get the most up-to-date weights.\n",
            "  warnings.warn(msg)\n",
            "Downloading: \"https://download.pytorch.org/models/resnet18-f37072fd.pth\" to /root/.cache/torch/hub/checkpoints/resnet18-f37072fd.pth\n"
          ]
        },
        {
          "output_type": "display_data",
          "data": {
            "text/plain": [
              "  0%|          | 0.00/44.7M [00:00<?, ?B/s]"
            ],
            "application/vnd.jupyter.widget-view+json": {
              "version_major": 2,
              "version_minor": 0,
              "model_id": "0cd4ae2599204a64a567d61f7cfba1b9"
            }
          },
          "metadata": {}
        },
        {
          "output_type": "stream",
          "name": "stdout",
          "text": [
            "Epoch 1/20\n",
            "----------\n"
          ]
        },
        {
          "output_type": "stream",
          "name": "stderr",
          "text": [
            "/usr/local/lib/python3.7/dist-packages/torch/optim/lr_scheduler.py:136: UserWarning: Detected call of `lr_scheduler.step()` before `optimizer.step()`. In PyTorch 1.1.0 and later, you should call them in the opposite order: `optimizer.step()` before `lr_scheduler.step()`.  Failure to do this will result in PyTorch skipping the first value of the learning rate schedule. See more details at https://pytorch.org/docs/stable/optim.html#how-to-adjust-learning-rate\n",
            "  \"https://pytorch.org/docs/stable/optim.html#how-to-adjust-learning-rate\", UserWarning)\n"
          ]
        },
        {
          "output_type": "stream",
          "name": "stdout",
          "text": [
            "Training Loss: 0.6048 Acc: 0.7392\n",
            "Testing Loss: 1.2291 Acc: 0.6643\n",
            "Epoch 2/20\n",
            "----------\n",
            "Training Loss: 0.3269 Acc: 0.8640\n",
            "Testing Loss: 0.6618 Acc: 0.7624\n",
            "Epoch 3/20\n",
            "----------\n",
            "Training Loss: 0.2733 Acc: 0.8870\n",
            "Testing Loss: 2.0857 Acc: 0.5722\n",
            "Epoch 4/20\n",
            "----------\n",
            "Training Loss: 0.2377 Acc: 0.9065\n",
            "Testing Loss: 0.7658 Acc: 0.7499\n",
            "Epoch 5/20\n",
            "----------\n",
            "Training Loss: 0.2092 Acc: 0.9139\n",
            "Testing Loss: 2.1650 Acc: 0.6289\n",
            "Epoch 6/20\n",
            "----------\n",
            "Training Loss: 0.1975 Acc: 0.9189\n",
            "Testing Loss: 1.1065 Acc: 0.6647\n",
            "Epoch 7/20\n",
            "----------\n",
            "Training Loss: 0.1546 Acc: 0.9387\n",
            "Testing Loss: 0.7163 Acc: 0.7575\n",
            "Epoch 8/20\n",
            "----------\n",
            "Training Loss: 0.1247 Acc: 0.9480\n",
            "Testing Loss: 0.7733 Acc: 0.7591\n",
            "Epoch 9/20\n",
            "----------\n",
            "Training Loss: 0.1154 Acc: 0.9547\n",
            "Testing Loss: 0.8645 Acc: 0.7443\n",
            "Epoch 10/20\n",
            "----------\n",
            "Training Loss: 0.1095 Acc: 0.9577\n",
            "Testing Loss: 0.8112 Acc: 0.7559\n",
            "Epoch 11/20\n",
            "----------\n",
            "Training Loss: 0.1034 Acc: 0.9600\n",
            "Testing Loss: 0.8724 Acc: 0.7523\n",
            "Epoch 12/20\n",
            "----------\n",
            "Training Loss: 0.0877 Acc: 0.9672\n",
            "Testing Loss: 0.9248 Acc: 0.7394\n",
            "Epoch 13/20\n",
            "----------\n",
            "Training Loss: 0.0910 Acc: 0.9652\n",
            "Testing Loss: 0.9502 Acc: 0.7298\n",
            "Epoch 14/20\n",
            "----------\n",
            "Training Loss: 0.0883 Acc: 0.9669\n",
            "Testing Loss: 0.9162 Acc: 0.7378\n",
            "Epoch 15/20\n",
            "----------\n",
            "Training Loss: 0.0868 Acc: 0.9695\n",
            "Testing Loss: 0.8745 Acc: 0.7571\n",
            "Epoch 16/20\n",
            "----------\n",
            "Training Loss: 0.0790 Acc: 0.9716\n",
            "Testing Loss: 0.9217 Acc: 0.7455\n",
            "Epoch 17/20\n",
            "----------\n",
            "Training Loss: 0.0871 Acc: 0.9662\n",
            "Testing Loss: 0.9728 Acc: 0.7559\n",
            "Epoch 18/20\n",
            "----------\n",
            "Training Loss: 0.0796 Acc: 0.9705\n",
            "Testing Loss: 0.9784 Acc: 0.7483\n",
            "Epoch 19/20\n",
            "----------\n",
            "Training Loss: 0.0815 Acc: 0.9685\n",
            "Testing Loss: 0.9514 Acc: 0.7463\n",
            "Epoch 20/20\n",
            "----------\n",
            "Training Loss: 0.0877 Acc: 0.9657\n",
            "Testing Loss: 0.9433 Acc: 0.7487\n",
            "Training complete in 22m 50s\n",
            "Best Testing accucary: 0.7624\n"
          ]
        }
      ]
    },
    {
      "cell_type": "code",
      "source": [
        "# loss / epoch\n",
        "t_loss = [min(i, 3) for i in test_loss]\n",
        "tr_loss = [min(i, 3) for i in train_loss]\n",
        "plt.plot(range(1, 21), tr_loss, label='Train')\n",
        "plt.plot(range(1, 21), t_loss, label='Test')\n",
        "plt.xlabel(\"Epoch\")  \n",
        "plt.ylabel(\"Loss\") \n",
        "plt.title(\"Perdida por cada época\")  \n",
        "plt.legend()\n",
        "plt.show()"
      ],
      "metadata": {
        "colab": {
          "base_uri": "https://localhost:8080/",
          "height": 295
        },
        "id": "KCtwPnWO39wY",
        "outputId": "ef806d72-36d8-471d-a0d1-6eb61c02d416"
      },
      "execution_count": null,
      "outputs": [
        {
          "output_type": "display_data",
          "data": {
            "text/plain": [
              "<Figure size 432x288 with 1 Axes>"
            ],
            "image/png": "[encoded data removed]"
          },
          "metadata": {
            "needs_background": "light"
          }
        }
      ]
    },
    {
      "cell_type": "markdown",
      "metadata": {
        "id": "PJRNtriLSynW"
      },
      "source": [
        "###Learning rate 0.1"
      ]
    },
    {
      "cell_type": "code",
      "execution_count": null,
      "metadata": {
        "colab": {
          "base_uri": "https://localhost:8080/"
        },
        "id": "VfmIIXlVS6-q",
        "outputId": "1da4d07b-836c-4bd4-abf4-7f659bc4a355"
      },
      "outputs": [
        {
          "output_type": "stream",
          "name": "stdout",
          "text": [
            "Epoch 1/20\n",
            "----------\n",
            "Training Loss: 3.4528 Acc: 0.2633\n",
            "Testing Loss: 110.3927 Acc: 0.2702\n",
            "Epoch 2/20\n",
            "----------\n",
            "Training Loss: 1.4141 Acc: 0.3051\n",
            "Testing Loss: 1.5181 Acc: 0.3936\n",
            "Epoch 3/20\n",
            "----------\n",
            "Training Loss: 1.1689 Acc: 0.4696\n",
            "Testing Loss: 5.6020 Acc: 0.2155\n",
            "Epoch 4/20\n",
            "----------\n",
            "Training Loss: 0.9116 Acc: 0.5665\n",
            "Testing Loss: 8.3708 Acc: 0.2224\n",
            "Epoch 5/20\n",
            "----------\n",
            "Training Loss: 0.8708 Acc: 0.5923\n",
            "Testing Loss: 3.3311 Acc: 0.2268\n",
            "Epoch 6/20\n",
            "----------\n",
            "Training Loss: 0.7429 Acc: 0.6631\n",
            "Testing Loss: 1.0750 Acc: 0.5674\n",
            "Epoch 7/20\n",
            "----------\n",
            "Training Loss: 0.6577 Acc: 0.7098\n",
            "Testing Loss: 0.6292 Acc: 0.7302\n",
            "Epoch 8/20\n",
            "----------\n",
            "Training Loss: 0.5988 Acc: 0.7324\n",
            "Testing Loss: 0.7656 Acc: 0.6892\n",
            "Epoch 9/20\n",
            "----------\n",
            "Training Loss: 0.5653 Acc: 0.7458\n",
            "Testing Loss: 0.6952 Acc: 0.6972\n",
            "Epoch 10/20\n",
            "----------\n",
            "Training Loss: 0.5495 Acc: 0.7478\n",
            "Testing Loss: 0.7127 Acc: 0.6783\n",
            "Epoch 11/20\n",
            "----------\n",
            "Training Loss: 0.5118 Acc: 0.7750\n",
            "Testing Loss: 0.6218 Acc: 0.7193\n",
            "Epoch 12/20\n",
            "----------\n",
            "Training Loss: 0.4833 Acc: 0.7878\n",
            "Testing Loss: 0.9658 Acc: 0.6614\n",
            "Epoch 13/20\n",
            "----------\n",
            "Training Loss: 0.4840 Acc: 0.7833\n",
            "Testing Loss: 0.6992 Acc: 0.7041\n",
            "Epoch 14/20\n",
            "----------\n",
            "Training Loss: 0.4410 Acc: 0.8045\n",
            "Testing Loss: 0.6934 Acc: 0.7254\n",
            "Epoch 15/20\n",
            "----------\n",
            "Training Loss: 0.4293 Acc: 0.8157\n",
            "Testing Loss: 0.6071 Acc: 0.7185\n",
            "Epoch 16/20\n",
            "----------\n",
            "Training Loss: 0.4368 Acc: 0.8095\n",
            "Testing Loss: 0.6370 Acc: 0.7226\n",
            "Epoch 17/20\n",
            "----------\n",
            "Training Loss: 0.4315 Acc: 0.8159\n",
            "Testing Loss: 0.6036 Acc: 0.7214\n",
            "Epoch 18/20\n",
            "----------\n",
            "Training Loss: 0.4129 Acc: 0.8170\n",
            "Testing Loss: 0.6343 Acc: 0.7242\n",
            "Epoch 19/20\n",
            "----------\n",
            "Training Loss: 0.4163 Acc: 0.8163\n",
            "Testing Loss: 0.6477 Acc: 0.7077\n",
            "Epoch 20/20\n",
            "----------\n",
            "Training Loss: 0.4235 Acc: 0.8135\n",
            "Testing Loss: 0.6927 Acc: 0.6988\n",
            "Training complete in 22m 48s\n",
            "Best Testing accucary: 0.7302\n"
          ]
        }
      ],
      "source": [
        "# Transfer Learning\n",
        "model_ft = models.resnet18(pretrained=True)\n",
        "\n",
        "num_ft = model_ft.fc.in_features\n",
        "model_ft.fc = nn.Linear(num_ft, 4)\n",
        "\n",
        "model_ft = model_ft.to(device)\n",
        "criterion = nn.CrossEntropyLoss()\n",
        "\n",
        "optimizer = torch.optim.Adam(model_ft.parameters(), lr=0.1)\n",
        "exp_lr_scheduler = torch.optim.lr_scheduler.StepLR(optimizer, step_size=7, gamma=0.1)\n",
        "\n",
        "model_ft, train_loss, test_loss = train_model(model_ft, criterion, optimizer, exp_lr_scheduler, 20)"
      ]
    },
    {
      "cell_type": "code",
      "execution_count": null,
      "metadata": {
        "colab": {
          "base_uri": "https://localhost:8080/",
          "height": 295
        },
        "id": "ucCQm26iS93H",
        "outputId": "418718ad-49a8-4c7f-b94d-208ecdd16537"
      },
      "outputs": [
        {
          "output_type": "display_data",
          "data": {
            "text/plain": [
              "<Figure size 432x288 with 1 Axes>"
            ],
            "image/png": "[encoded data removed]"
          },
          "metadata": {
            "needs_background": "light"
          }
        }
      ],
      "source": [
        "# loss / epoch\n",
        "t_loss = [min(i, 3) for i in test_loss]\n",
        "tr_loss = [min(i, 3) for i in train_loss]\n",
        "plt.plot(range(1, 21), tr_loss, label='Train')\n",
        "plt.plot(range(1, 21), t_loss, label='Test')\n",
        "plt.xlabel(\"Epoch\")  \n",
        "plt.ylabel(\"Loss\") \n",
        "plt.title(\"Perdida por cada época\")  \n",
        "plt.legend()\n",
        "plt.show()"
      ]
    },
    {
      "cell_type": "markdown",
      "metadata": {
        "id": "SJdrVvXGS2ft"
      },
      "source": [
        "### Learning rate 0.5"
      ]
    },
    {
      "cell_type": "code",
      "execution_count": null,
      "metadata": {
        "id": "Gw3VY93OS-bW",
        "colab": {
          "base_uri": "https://localhost:8080/"
        },
        "outputId": "09ece4aa-75a2-43e5-d6ad-31251794c809"
      },
      "outputs": [
        {
          "output_type": "stream",
          "name": "stdout",
          "text": [
            "Epoch 1/20\n",
            "----------\n",
            "Training Loss: 13.2634 Acc: 0.2469\n",
            "Testing Loss: 43.9113 Acc: 0.2409\n",
            "Epoch 2/20\n",
            "----------\n",
            "Training Loss: 1.4249 Acc: 0.2470\n",
            "Testing Loss: 1.4266 Acc: 0.2529\n",
            "Epoch 3/20\n",
            "----------\n",
            "Training Loss: 1.3951 Acc: 0.2476\n",
            "Testing Loss: 1.3921 Acc: 0.2501\n",
            "Epoch 4/20\n",
            "----------\n",
            "Training Loss: 1.3947 Acc: 0.2449\n",
            "Testing Loss: 1.3919 Acc: 0.2465\n",
            "Epoch 5/20\n",
            "----------\n",
            "Training Loss: 1.3903 Acc: 0.2507\n",
            "Testing Loss: 1.3917 Acc: 0.2513\n",
            "Epoch 6/20\n",
            "----------\n",
            "Training Loss: 1.3925 Acc: 0.2457\n",
            "Testing Loss: 1.3922 Acc: 0.2505\n",
            "Epoch 7/20\n",
            "----------\n",
            "Training Loss: 1.3882 Acc: 0.2501\n",
            "Testing Loss: 1.3870 Acc: 0.2501\n",
            "Epoch 8/20\n",
            "----------\n",
            "Training Loss: 1.3870 Acc: 0.2495\n",
            "Testing Loss: 1.3870 Acc: 0.2481\n",
            "Epoch 9/20\n",
            "----------\n",
            "Training Loss: 1.3878 Acc: 0.2479\n",
            "Testing Loss: 1.3873 Acc: 0.2461\n",
            "Epoch 10/20\n",
            "----------\n",
            "Training Loss: 1.3879 Acc: 0.2515\n",
            "Testing Loss: 1.3867 Acc: 0.2521\n",
            "Epoch 11/20\n",
            "----------\n",
            "Training Loss: 1.3870 Acc: 0.2498\n",
            "Testing Loss: 1.3869 Acc: 0.2481\n",
            "Epoch 12/20\n",
            "----------\n",
            "Training Loss: 1.3866 Acc: 0.2403\n",
            "Testing Loss: 1.3873 Acc: 0.2497\n",
            "Epoch 13/20\n",
            "----------\n",
            "Training Loss: 1.3873 Acc: 0.2393\n",
            "Testing Loss: 1.3873 Acc: 0.2493\n",
            "Epoch 14/20\n",
            "----------\n",
            "Training Loss: 1.3868 Acc: 0.2492\n",
            "Testing Loss: 1.3862 Acc: 0.2509\n",
            "Epoch 15/20\n",
            "----------\n",
            "Training Loss: 1.3863 Acc: 0.2463\n",
            "Testing Loss: 1.3890 Acc: 0.2541\n",
            "Epoch 16/20\n",
            "----------\n",
            "Training Loss: 1.3865 Acc: 0.2484\n",
            "Testing Loss: 1.3862 Acc: 0.2509\n",
            "Epoch 17/20\n",
            "----------\n",
            "Training Loss: 1.3867 Acc: 0.2487\n",
            "Testing Loss: 1.3863 Acc: 0.2489\n",
            "Epoch 18/20\n",
            "----------\n",
            "Training Loss: 1.3864 Acc: 0.2488\n",
            "Testing Loss: 1.3864 Acc: 0.2501\n",
            "Epoch 19/20\n",
            "----------\n",
            "Training Loss: 1.3862 Acc: 0.2447\n",
            "Testing Loss: 1.3869 Acc: 0.2489\n",
            "Epoch 20/20\n",
            "----------\n",
            "Training Loss: 1.3866 Acc: 0.2472\n",
            "Testing Loss: 1.3863 Acc: 0.2561\n",
            "Training complete in 22m 39s\n",
            "Best Testing accucary: 0.2561\n"
          ]
        }
      ],
      "source": [
        "# Transfer Learning\n",
        "model_ft = models.resnet18(pretrained=True)\n",
        "\n",
        "num_ft = model_ft.fc.in_features\n",
        "model_ft.fc = nn.Linear(num_ft, 4)\n",
        "\n",
        "model_ft = model_ft.to(device)\n",
        "criterion = nn.CrossEntropyLoss()\n",
        "\n",
        "optimizer = torch.optim.Adam(model_ft.parameters(), lr=0.5)\n",
        "exp_lr_scheduler = torch.optim.lr_scheduler.StepLR(optimizer, step_size=7, gamma=0.1)\n",
        "\n",
        "model_ft, train_loss, test_loss = train_model(model_ft, criterion, optimizer, exp_lr_scheduler, 20)"
      ]
    },
    {
      "cell_type": "code",
      "execution_count": null,
      "metadata": {
        "id": "xd_5EbrZTAD_",
        "colab": {
          "base_uri": "https://localhost:8080/",
          "height": 295
        },
        "outputId": "01e40972-988c-4a16-fd29-247692becde2"
      },
      "outputs": [
        {
          "output_type": "display_data",
          "data": {
            "text/plain": [
              "<Figure size 432x288 with 1 Axes>"
            ],
            "image/png": "[encoded data removed]"
          },
          "metadata": {
            "needs_background": "light"
          }
        }
      ],
      "source": [
        "# loss / epoch\n",
        "t_loss = [min(i, 3) for i in test_loss]\n",
        "tr_loss = [min(i, 3) for i in train_loss]\n",
        "plt.plot(range(1, 21), tr_loss, label='Train')\n",
        "plt.plot(range(1, 21), t_loss, label='Test')\n",
        "plt.xlabel(\"Epoch\")  \n",
        "plt.ylabel(\"Loss\") \n",
        "plt.title(\"Perdida por cada época\")  \n",
        "plt.legend()\n",
        "plt.show()"
      ]
    },
    {
      "cell_type": "markdown",
      "source": [
        "### Conclusiones"
      ],
      "metadata": {
        "id": "_EMxW52bUXkb"
      }
    },
    {
      "cell_type": "markdown",
      "source": [
        "- En general las curvas que parecen presentar más overfitting son los que tienen el learning rate más bajo, lo que tiene bastante sentido pues el modelo no tiene oportunidad de generar resultados más variados, por lo que siempre termina apuntando al camino que lo lleva al mejor resultado para la data de training.\n",
        "- En cambio, para learning rates más altos el modelo pareciese ir \"peor\" pero tiene unos resultados geniales graficamente, pues no hay overfitting, y el modelo mejora sus respuestas tanto para la data de training como para la de testing, lo que probablemente se debe a que aumenta la variabilidad del modelo, llevando al modelo a actualizar sus parámetros de forma tal que no se adapta 100% bien a la data de training, lo que da la posibilidad a mejorar en la data de testing."
      ],
      "metadata": {
        "id": "b-9sq3JSUby4"
      }
    },
    {
      "cell_type": "markdown",
      "source": [
        "## Entrenamiento Séptimo Intento: ¿Y si hacemos el crop en el centro?"
      ],
      "metadata": {
        "id": "GUq-m7AbWIz9"
      }
    },
    {
      "cell_type": "markdown",
      "source": [
        "### Motivación"
      ],
      "metadata": {
        "id": "qffmBEFH3zKd"
      }
    },
    {
      "cell_type": "markdown",
      "source": [
        "#### Random Crop"
      ],
      "metadata": {
        "id": "zwxQ8G_L33K3"
      }
    },
    {
      "cell_type": "code",
      "source": [
        "''' Extracción de Data con Random Crop'''\n",
        "\n",
        "train_dataset_old = BloodDataset(root='images/', split='TRAIN',\n",
        "                                                transform=transforms.Compose([\n",
        "                                                    transforms.RandomResizedCrop(224),\n",
        "                                                    transforms. ToTensor(),\n",
        "                                                    transforms.Normalize(mean=[0.485, 0.456, 0.406],\n",
        "                                                                        std=[0.229, 0.224, 0.225])\n",
        "                                                ]))\n",
        "\n",
        "test_dataset_old = BloodDataset(root='images/', split='TEST',\n",
        "                                                transform=transforms.Compose([\n",
        "                                                    transforms.RandomResizedCrop(224),\n",
        "                                                    transforms. ToTensor(),\n",
        "                                                    transforms.Normalize(mean=[0.485, 0.456, 0.406],\n",
        "                                                                        std=[0.229, 0.224, 0.225])\n",
        "                                                ]))"
      ],
      "metadata": {
        "id": "_YbVi8Ok2fhn"
      },
      "execution_count": null,
      "outputs": []
    },
    {
      "cell_type": "code",
      "source": [
        "''' DataLoaders con Random Crop'''\n",
        "\n",
        "train_loader_old = torch.utils.data.DataLoader(train_dataset, batch_size=256, shuffle=True)\n",
        "test_loader_old = torch.utils.data.DataLoader(test_dataset, batch_size=256, shuffle=True)"
      ],
      "metadata": {
        "id": "YbUBWj5u2jAO"
      },
      "execution_count": null,
      "outputs": []
    },
    {
      "cell_type": "markdown",
      "source": [
        "#### Center Crop"
      ],
      "metadata": {
        "id": "Hp39TlPR35Mw"
      }
    },
    {
      "cell_type": "code",
      "source": [
        "''' Extracción de Data con Center Crop'''\n",
        "\n",
        "train_dataset = BloodDataset(root='images/', split='TRAIN',\n",
        "                                                transform=transforms.Compose([\n",
        "                                                    transforms.CenterCrop(224),\n",
        "                                                    transforms. ToTensor(),\n",
        "                                                    transforms.Normalize(mean=[0.485, 0.456, 0.406],\n",
        "                                                                        std=[0.229, 0.224, 0.225])\n",
        "                                                ]))\n",
        "\n",
        "test_dataset = BloodDataset(root='images/', split='TEST',\n",
        "                                                transform=transforms.Compose([\n",
        "                                                    transforms.CenterCrop(224),\n",
        "                                                    transforms. ToTensor(),\n",
        "                                                    transforms.Normalize(mean=[0.485, 0.456, 0.406],\n",
        "                                                                        std=[0.229, 0.224, 0.225])\n",
        "                                                ]))"
      ],
      "metadata": {
        "id": "FTIJYQKFJyEH"
      },
      "execution_count": null,
      "outputs": []
    },
    {
      "cell_type": "code",
      "source": [
        "''' DataLoaders de Data con Center Crop '''\n",
        "\n",
        "train_loader = torch.utils.data.DataLoader(train_dataset, batch_size=256, shuffle=True)\n",
        "test_loader = torch.utils.data.DataLoader(test_dataset, batch_size=256, shuffle=True)"
      ],
      "metadata": {
        "id": "1FkKOHrxJ04-"
      },
      "execution_count": null,
      "outputs": []
    },
    {
      "cell_type": "markdown",
      "source": [
        "#### Comparación"
      ],
      "metadata": {
        "id": "nOy-cOpV39O9"
      }
    },
    {
      "cell_type": "code",
      "source": [
        "fig = plt.figure(figsize=(10, 10))\n",
        "rows = 6\n",
        "cols = 2\n",
        "names = [\"Random\", \"Center\"]\n",
        "pos = 1\n",
        "for i in range(rows):\n",
        "  out = []\n",
        "  loaders = [train_dataset_old, train_dataset]\n",
        "  for j in range(cols):\n",
        "    img = loaders[j][i][0]\n",
        "    inp = img.numpy().transpose((1, 2, 0))\n",
        "    mean = np.array([0.485, 0.456, 0.406])\n",
        "    std = np.array([0.229, 0.224, 0.225])\n",
        "    inp = std * inp + mean\n",
        "    inp = np.clip(inp, 0, 1)\n",
        "    fig.add_subplot(rows, cols, pos)\n",
        "    plt.imshow(inp)\n",
        "    plt.axis('off')\n",
        "    plt.title(names[j])\n",
        "    pos += 1\n",
        "    \n",
        "plt.show()"
      ],
      "metadata": {
        "colab": {
          "base_uri": "https://localhost:8080/",
          "height": 591
        },
        "id": "YBemSwJk5jZ5",
        "outputId": "6da79449-a826-4755-937f-2cd876e9829b"
      },
      "execution_count": null,
      "outputs": [
        {
          "output_type": "display_data",
          "data": {
            "text/plain": [
              "<Figure size 720x720 with 12 Axes>"
            ],
            "image/png": "[encoded data removed]"
          },
          "metadata": {
            "needs_background": "light"
          }
        }
      ]
    },
    {
      "cell_type": "markdown",
      "source": [
        "Tal parece que del centro de la imagen y sin un cambio de escala se puede obtener mayor información, por lo cual se espera que la red neuronal pueda aprender mejor, y obtener mejores resultados en la data de testing. Lo cual tendría sentido pues pareciese que algunas imágenes de la izquierda (la que usa el random resized crop) obtiene en la mitad de los casos imágenes bastante ambiguas y poco descriptibles que incluso a una persona probablemente le costaría distinguir."
      ],
      "metadata": {
        "id": "SvdI6TC180M1"
      }
    },
    {
      "cell_type": "markdown",
      "source": [
        "### El Modelo con Mejor Resultado en Testing"
      ],
      "metadata": {
        "id": "rh3VnVa7NveH"
      }
    },
    {
      "cell_type": "code",
      "source": [
        "# Transfer Learning\n",
        "model_ft = models.resnet18(pretrained=True)\n",
        "\n",
        "num_ft = model_ft.fc.in_features\n",
        "model_ft.fc = nn.Linear(num_ft, 4)\n",
        "\n",
        "model_ft = model_ft.to(device)\n",
        "criterion = nn.CrossEntropyLoss()\n",
        "\n",
        "optimizer = torch.optim.Adam(model_ft.parameters(), lr=0.001)\n",
        "exp_lr_scheduler = torch.optim.lr_scheduler.StepLR(optimizer, step_size=7, gamma=0.1)\n",
        "\n",
        "model_ft, train_loss, test_loss = train_model(model_ft, criterion, optimizer, exp_lr_scheduler, 20)"
      ],
      "metadata": {
        "colab": {
          "base_uri": "https://localhost:8080/"
        },
        "id": "1BrPsCBPJ5PW",
        "outputId": "43ef4298-852b-4ebe-b9e5-1f591bda48c6"
      },
      "execution_count": null,
      "outputs": [
        {
          "output_type": "stream",
          "name": "stdout",
          "text": [
            "Epoch 1/20\n",
            "----------\n",
            "Training Loss: 0.2003 Acc: 0.9218\n",
            "Testing Loss: 0.5132 Acc: 0.8428\n",
            "Epoch 2/20\n",
            "----------\n",
            "Training Loss: 0.0153 Acc: 0.9961\n",
            "Testing Loss: 0.8660 Acc: 0.8343\n",
            "Epoch 3/20\n",
            "----------\n",
            "Training Loss: 0.0059 Acc: 0.9987\n",
            "Testing Loss: 0.8304 Acc: 0.9031\n",
            "Epoch 4/20\n",
            "----------\n",
            "Training Loss: 0.0052 Acc: 0.9985\n",
            "Testing Loss: 1.0929 Acc: 0.8327\n",
            "Epoch 5/20\n",
            "----------\n",
            "Training Loss: 0.0037 Acc: 0.9990\n",
            "Testing Loss: 0.7840 Acc: 0.8947\n",
            "Epoch 6/20\n",
            "----------\n",
            "Training Loss: 0.0053 Acc: 0.9986\n",
            "Testing Loss: 1.2381 Acc: 0.7262\n",
            "Epoch 7/20\n",
            "----------\n",
            "Training Loss: 0.0027 Acc: 0.9994\n",
            "Testing Loss: 1.0189 Acc: 0.8733\n",
            "Epoch 8/20\n",
            "----------\n",
            "Training Loss: 0.0005 Acc: 1.0000\n",
            "Testing Loss: 0.9843 Acc: 0.8713\n",
            "Epoch 9/20\n",
            "----------\n",
            "Training Loss: 0.0003 Acc: 1.0000\n",
            "Testing Loss: 0.9832 Acc: 0.8717\n",
            "Epoch 10/20\n",
            "----------\n",
            "Training Loss: 0.0003 Acc: 1.0000\n",
            "Testing Loss: 0.9562 Acc: 0.8721\n",
            "Epoch 11/20\n",
            "----------\n",
            "Training Loss: 0.0002 Acc: 1.0000\n",
            "Testing Loss: 0.9647 Acc: 0.8725\n",
            "Epoch 12/20\n",
            "----------\n",
            "Training Loss: 0.0002 Acc: 1.0000\n",
            "Testing Loss: 0.9563 Acc: 0.8717\n",
            "Epoch 13/20\n",
            "----------\n",
            "Training Loss: 0.0002 Acc: 1.0000\n",
            "Testing Loss: 0.9651 Acc: 0.8705\n",
            "Epoch 14/20\n",
            "----------\n",
            "Training Loss: 0.0002 Acc: 1.0000\n",
            "Testing Loss: 0.9524 Acc: 0.8717\n",
            "Epoch 15/20\n",
            "----------\n",
            "Training Loss: 0.0002 Acc: 1.0000\n",
            "Testing Loss: 0.9487 Acc: 0.8721\n",
            "Epoch 16/20\n",
            "----------\n",
            "Training Loss: 0.0002 Acc: 1.0000\n",
            "Testing Loss: 0.9179 Acc: 0.8749\n",
            "Epoch 17/20\n",
            "----------\n",
            "Training Loss: 0.0002 Acc: 1.0000\n",
            "Testing Loss: 0.9489 Acc: 0.8717\n",
            "Epoch 18/20\n",
            "----------\n",
            "Training Loss: 0.0002 Acc: 1.0000\n",
            "Testing Loss: 0.9527 Acc: 0.8713\n",
            "Epoch 19/20\n",
            "----------\n",
            "Training Loss: 0.0002 Acc: 1.0000\n",
            "Testing Loss: 0.9479 Acc: 0.8713\n",
            "Epoch 20/20\n",
            "----------\n",
            "Training Loss: 0.0002 Acc: 1.0000\n",
            "Testing Loss: 0.9432 Acc: 0.8721\n",
            "Training complete in 20m 21s\n",
            "Best Testing accucary: 0.9031\n"
          ]
        }
      ]
    },
    {
      "cell_type": "code",
      "source": [
        "# loss / epoch\n",
        "t_loss = [min(i, 3) for i in test_loss]\n",
        "tr_loss = [min(i, 3) for i in train_loss]\n",
        "plt.plot(range(1, 21), tr_loss, label='Train')\n",
        "plt.plot(range(1, 21), t_loss, label='Test')\n",
        "plt.xlabel(\"Epoch\")  \n",
        "plt.ylabel(\"Loss\") \n",
        "plt.title(\"Perdida por cada época\")  \n",
        "plt.legend()\n",
        "plt.show()"
      ],
      "metadata": {
        "colab": {
          "base_uri": "https://localhost:8080/",
          "height": 295
        },
        "id": "_8PqjnOPJ6tI",
        "outputId": "615d4229-3b5f-4525-f517-37023d111b67"
      },
      "execution_count": null,
      "outputs": [
        {
          "output_type": "display_data",
          "data": {
            "text/plain": [
              "<Figure size 432x288 with 1 Axes>"
            ],
            "image/png": "[encoded data removed]"
          },
          "metadata": {
            "needs_background": "light"
          }
        }
      ]
    },
    {
      "cell_type": "markdown",
      "source": [
        "### La Curva más Prometedora"
      ],
      "metadata": {
        "id": "lgqSzcLXN80n"
      }
    },
    {
      "cell_type": "code",
      "source": [
        "# Transfer Learning\n",
        "model_ft = models.resnet18(pretrained=True)\n",
        "\n",
        "num_ft = model_ft.fc.in_features\n",
        "model_ft.fc = nn.Linear(num_ft, 4)\n",
        "\n",
        "model_ft = model_ft.to(device)\n",
        "criterion = nn.CrossEntropyLoss()\n",
        "\n",
        "optimizer = torch.optim.Adam(model_ft.parameters(), lr=0.1)\n",
        "exp_lr_scheduler = torch.optim.lr_scheduler.StepLR(optimizer, step_size=7, gamma=0.1)\n",
        "\n",
        "model_ft, train_loss, test_loss = train_model(model_ft, criterion, optimizer, exp_lr_scheduler, 20)"
      ],
      "metadata": {
        "colab": {
          "base_uri": "https://localhost:8080/"
        },
        "id": "xo1aZPw4N6A6",
        "outputId": "d8fe6e38-ffa4-4d8f-8a76-802ab807c122"
      },
      "execution_count": null,
      "outputs": [
        {
          "output_type": "stream",
          "name": "stdout",
          "text": [
            "Epoch 1/20\n",
            "----------\n",
            "Training Loss: 4.3804 Acc: 0.3331\n",
            "Testing Loss: 27.0891 Acc: 0.2642\n",
            "Epoch 2/20\n",
            "----------\n",
            "Training Loss: 0.9147 Acc: 0.5940\n",
            "Testing Loss: 1.9341 Acc: 0.5340\n",
            "Epoch 3/20\n",
            "----------\n",
            "Training Loss: 0.5436 Acc: 0.7715\n",
            "Testing Loss: 4.0627 Acc: 0.2923\n",
            "Epoch 4/20\n",
            "----------\n",
            "Training Loss: 0.3988 Acc: 0.8363\n",
            "Testing Loss: 3.6341 Acc: 0.5070\n",
            "Epoch 5/20\n",
            "----------\n",
            "Training Loss: 0.2814 Acc: 0.8893\n",
            "Testing Loss: 0.9777 Acc: 0.7849\n",
            "Epoch 6/20\n",
            "----------\n",
            "Training Loss: 0.2305 Acc: 0.9064\n",
            "Testing Loss: 0.4223 Acc: 0.8227\n",
            "Epoch 7/20\n",
            "----------\n",
            "Training Loss: 0.1673 Acc: 0.9371\n",
            "Testing Loss: 0.3985 Acc: 0.8581\n",
            "Epoch 8/20\n",
            "----------\n",
            "Training Loss: 0.1291 Acc: 0.9501\n",
            "Testing Loss: 0.3223 Acc: 0.8613\n",
            "Epoch 9/20\n",
            "----------\n",
            "Training Loss: 0.1132 Acc: 0.9553\n",
            "Testing Loss: 0.3256 Acc: 0.8593\n",
            "Epoch 10/20\n",
            "----------\n",
            "Training Loss: 0.1001 Acc: 0.9621\n",
            "Testing Loss: 0.3926 Acc: 0.8705\n",
            "Epoch 11/20\n",
            "----------\n",
            "Training Loss: 0.0900 Acc: 0.9648\n",
            "Testing Loss: 0.3478 Acc: 0.8725\n",
            "Epoch 12/20\n",
            "----------\n",
            "Training Loss: 0.0792 Acc: 0.9719\n",
            "Testing Loss: 0.4278 Acc: 0.8693\n",
            "Epoch 13/20\n",
            "----------\n",
            "Training Loss: 0.0710 Acc: 0.9746\n",
            "Testing Loss: 0.5317 Acc: 0.8846\n",
            "Epoch 14/20\n",
            "----------\n",
            "Training Loss: 0.0580 Acc: 0.9815\n",
            "Testing Loss: 0.5699 Acc: 0.8758\n",
            "Epoch 15/20\n",
            "----------\n",
            "Training Loss: 0.0564 Acc: 0.9815\n",
            "Testing Loss: 0.5803 Acc: 0.8725\n",
            "Epoch 16/20\n",
            "----------\n",
            "Training Loss: 0.0547 Acc: 0.9820\n",
            "Testing Loss: 0.5853 Acc: 0.8762\n",
            "Epoch 17/20\n",
            "----------\n",
            "Training Loss: 0.0537 Acc: 0.9822\n",
            "Testing Loss: 0.5964 Acc: 0.8733\n",
            "Epoch 18/20\n",
            "----------\n",
            "Training Loss: 0.0544 Acc: 0.9823\n",
            "Testing Loss: 0.5719 Acc: 0.8790\n",
            "Epoch 19/20\n",
            "----------\n",
            "Training Loss: 0.0521 Acc: 0.9823\n",
            "Testing Loss: 0.6157 Acc: 0.8798\n",
            "Epoch 20/20\n",
            "----------\n",
            "Training Loss: 0.0523 Acc: 0.9830\n",
            "Testing Loss: 0.6034 Acc: 0.8802\n",
            "Training complete in 19m 21s\n",
            "Best Testing accucary: 0.8846\n"
          ]
        }
      ]
    },
    {
      "cell_type": "code",
      "source": [
        "# loss / epoch\n",
        "t_loss = [min(i, 3) for i in test_loss]\n",
        "tr_loss = [min(i, 3) for i in train_loss]\n",
        "plt.plot(range(1, 21), tr_loss, label='Train')\n",
        "plt.plot(range(1, 21), t_loss, label='Test')\n",
        "plt.xlabel(\"Epoch\")  \n",
        "plt.ylabel(\"Loss\") \n",
        "plt.title(\"Perdida por cada época\")  \n",
        "plt.legend()\n",
        "plt.show()"
      ],
      "metadata": {
        "colab": {
          "base_uri": "https://localhost:8080/",
          "height": 295
        },
        "id": "yH4xQUVcN7SV",
        "outputId": "b523ff38-37b8-45d0-fa78-a87ae3f7c58b"
      },
      "execution_count": null,
      "outputs": [
        {
          "output_type": "display_data",
          "data": {
            "text/plain": [
              "<Figure size 432x288 with 1 Axes>"
            ],
            "image/png": "[encoded data removed]"
          },
          "metadata": {
            "needs_background": "light"
          }
        }
      ]
    },
    {
      "cell_type": "markdown",
      "source": [
        "### Conclusiones"
      ],
      "metadata": {
        "id": "e6C2PP419uF5"
      }
    },
    {
      "cell_type": "markdown",
      "source": [
        "- Al parecer la teoría de la motivación se cumplió, pues la red logró obtener mucho mejores resultados que los anteriormente vistos.\n",
        "- Como se pudo apreciar, el modelo que obtuvo el mejor resultado de testing presentaba demasiado overfitting, esto empeoró con el center crop.\n",
        "- Por otro lado, la curva más prometedora, logró obtener resultados bastante positivos, en los que el modelo casi lograba 100% de accuracy en data de training, pero no lo hacía (resultado positivo pues daba pie a que la red siguiera mejorando en la data de testing), mientras tanto la data de testing obtenía los mejores resultados vistos hasta ahora."
      ],
      "metadata": {
        "id": "lphN7t4E9wvl"
      }
    },
    {
      "cell_type": "markdown",
      "source": [
        "# Conclusión"
      ],
      "metadata": {
        "id": "dW6V43Zy_Mv3"
      }
    },
    {
      "cell_type": "markdown",
      "source": [
        "### Modelo Escogido"
      ],
      "metadata": {
        "id": "Eg7h5zuBNuCf"
      }
    },
    {
      "cell_type": "code",
      "source": [
        "torch.manual_seed(1234)"
      ],
      "metadata": {
        "colab": {
          "base_uri": "https://localhost:8080/"
        },
        "id": "q86bnbZjPGl0",
        "outputId": "8d182ced-c71e-4083-b4fa-40ffb384410e"
      },
      "execution_count": null,
      "outputs": [
        {
          "output_type": "execute_result",
          "data": {
            "text/plain": [
              "<torch._C.Generator at 0x7f8c1f6395d0>"
            ]
          },
          "metadata": {},
          "execution_count": 16
        }
      ]
    },
    {
      "cell_type": "code",
      "source": [
        "''' Extracción de Data con Center Crop'''\n",
        "\n",
        "train_dataset = BloodDataset(root='images/', split='TRAIN',\n",
        "                                                transform=transforms.Compose([\n",
        "                                                    transforms.CenterCrop(224),\n",
        "                                                    transforms. ToTensor(),\n",
        "                                                    transforms.Normalize(mean=[0.485, 0.456, 0.406],\n",
        "                                                                        std=[0.229, 0.224, 0.225])\n",
        "                                                ]))\n",
        "\n",
        "test_dataset = BloodDataset(root='images/', split='TEST',\n",
        "                                                transform=transforms.Compose([\n",
        "                                                    transforms.CenterCrop(224),\n",
        "                                                    transforms. ToTensor(),\n",
        "                                                    transforms.Normalize(mean=[0.485, 0.456, 0.406],\n",
        "                                                                        std=[0.229, 0.224, 0.225])\n",
        "                                                ]))\n",
        "\n",
        "val_dataset = BloodDataset(root='images/', split='VAL',\n",
        "                                                transform=transforms.Compose([\n",
        "                                                    transforms.CenterCrop(224),\n",
        "                                                    transforms. ToTensor(),\n",
        "                                                    transforms.Normalize(mean=[0.485, 0.456, 0.406],\n",
        "                                                                        std=[0.229, 0.224, 0.225])\n",
        "                                                ]))"
      ],
      "metadata": {
        "id": "FVEeAckWN82X"
      },
      "execution_count": null,
      "outputs": []
    },
    {
      "cell_type": "code",
      "source": [
        "''' DataLoaders de Data con Center Crop '''\n",
        "\n",
        "train_loader = torch.utils.data.DataLoader(train_dataset, batch_size=256, shuffle=True)\n",
        "test_loader = torch.utils.data.DataLoader(test_dataset, batch_size=256, shuffle=True)\n",
        "val_loader = torch.utils.data.DataLoader(val_dataset, batch_size=256, shuffle=True)"
      ],
      "metadata": {
        "id": "D3SOQmmDN-n8"
      },
      "execution_count": null,
      "outputs": []
    },
    {
      "cell_type": "code",
      "source": [
        "# Transfer Learning\n",
        "model_ft = models.resnet18(pretrained=True)\n",
        "\n",
        "num_ft = model_ft.fc.in_features\n",
        "model_ft.fc = nn.Linear(num_ft, 4)\n",
        "\n",
        "model_ft = model_ft.to(device)\n",
        "criterion = nn.CrossEntropyLoss()\n",
        "\n",
        "optimizer = torch.optim.Adam(model_ft.parameters(), lr=0.1)\n",
        "exp_lr_scheduler = torch.optim.lr_scheduler.StepLR(optimizer, step_size=7, gamma=0.1)\n",
        "\n",
        "model_ft, train_loss, test_loss = train_model(model_ft, criterion, optimizer, exp_lr_scheduler, 20)"
      ],
      "metadata": {
        "colab": {
          "base_uri": "https://localhost:8080/"
        },
        "id": "9rv1j2-eN3CS",
        "outputId": "44e388a4-71d7-4dc4-fef0-474461e014d6"
      },
      "execution_count": null,
      "outputs": [
        {
          "output_type": "stream",
          "name": "stderr",
          "text": [
            "/usr/local/lib/python3.7/dist-packages/torchvision/models/_utils.py:209: UserWarning: The parameter 'pretrained' is deprecated since 0.13 and will be removed in 0.15, please use 'weights' instead.\n",
            "  f\"The parameter '{pretrained_param}' is deprecated since 0.13 and will be removed in 0.15, \"\n",
            "/usr/local/lib/python3.7/dist-packages/torchvision/models/_utils.py:223: UserWarning: Arguments other than a weight enum or `None` for 'weights' are deprecated since 0.13 and will be removed in 0.15. The current behavior is equivalent to passing `weights=ResNet18_Weights.IMAGENET1K_V1`. You can also use `weights=ResNet18_Weights.DEFAULT` to get the most up-to-date weights.\n",
            "  warnings.warn(msg)\n"
          ]
        },
        {
          "output_type": "stream",
          "name": "stdout",
          "text": [
            "Epoch 1/20\n",
            "----------\n"
          ]
        },
        {
          "output_type": "stream",
          "name": "stderr",
          "text": [
            "/usr/local/lib/python3.7/dist-packages/torch/optim/lr_scheduler.py:136: UserWarning: Detected call of `lr_scheduler.step()` before `optimizer.step()`. In PyTorch 1.1.0 and later, you should call them in the opposite order: `optimizer.step()` before `lr_scheduler.step()`.  Failure to do this will result in PyTorch skipping the first value of the learning rate schedule. See more details at https://pytorch.org/docs/stable/optim.html#how-to-adjust-learning-rate\n",
            "  \"https://pytorch.org/docs/stable/optim.html#how-to-adjust-learning-rate\", UserWarning)\n"
          ]
        },
        {
          "output_type": "stream",
          "name": "stdout",
          "text": [
            "Training Loss: 3.3292 Acc: 0.3252\n",
            "Testing Loss: 6.9986 Acc: 0.3981\n",
            "Epoch 2/20\n",
            "----------\n",
            "Training Loss: 0.9700 Acc: 0.5268\n",
            "Testing Loss: 1.1267 Acc: 0.5533\n",
            "Epoch 3/20\n",
            "----------\n",
            "Training Loss: 0.5848 Acc: 0.7515\n",
            "Testing Loss: 2.3103 Acc: 0.4451\n",
            "Epoch 4/20\n",
            "----------\n",
            "Training Loss: 0.4409 Acc: 0.8151\n",
            "Testing Loss: 0.9665 Acc: 0.7772\n",
            "Epoch 5/20\n",
            "----------\n",
            "Training Loss: 0.3246 Acc: 0.8676\n",
            "Testing Loss: 1.9884 Acc: 0.5722\n",
            "Epoch 6/20\n",
            "----------\n",
            "Training Loss: 0.2654 Acc: 0.8899\n",
            "Testing Loss: 2.4916 Acc: 0.7390\n",
            "Epoch 7/20\n",
            "----------\n",
            "Training Loss: 0.1945 Acc: 0.9271\n",
            "Testing Loss: 0.5217 Acc: 0.8030\n",
            "Epoch 8/20\n",
            "----------\n",
            "Training Loss: 0.1650 Acc: 0.9394\n",
            "Testing Loss: 0.5064 Acc: 0.8122\n",
            "Epoch 9/20\n",
            "----------\n",
            "Training Loss: 0.1513 Acc: 0.9423\n",
            "Testing Loss: 0.4873 Acc: 0.8267\n",
            "Epoch 10/20\n",
            "----------\n",
            "Training Loss: 0.1451 Acc: 0.9452\n",
            "Testing Loss: 0.4886 Acc: 0.8295\n",
            "Epoch 11/20\n",
            "----------\n",
            "Training Loss: 0.1340 Acc: 0.9498\n",
            "Testing Loss: 0.5799 Acc: 0.8319\n",
            "Epoch 12/20\n",
            "----------\n",
            "Training Loss: 0.1198 Acc: 0.9538\n",
            "Testing Loss: 0.5342 Acc: 0.8363\n",
            "Epoch 13/20\n",
            "----------\n",
            "Training Loss: 0.1106 Acc: 0.9575\n",
            "Testing Loss: 0.6719 Acc: 0.8118\n",
            "Epoch 14/20\n",
            "----------\n",
            "Training Loss: 0.0998 Acc: 0.9630\n",
            "Testing Loss: 0.6671 Acc: 0.8388\n",
            "Epoch 15/20\n",
            "----------\n",
            "Training Loss: 0.0884 Acc: 0.9679\n",
            "Testing Loss: 0.6986 Acc: 0.8412\n",
            "Epoch 16/20\n",
            "----------\n",
            "Training Loss: 0.0863 Acc: 0.9681\n",
            "Testing Loss: 0.6802 Acc: 0.8388\n",
            "Epoch 17/20\n",
            "----------\n",
            "Training Loss: 0.0855 Acc: 0.9691\n",
            "Testing Loss: 0.6677 Acc: 0.8404\n",
            "Epoch 18/20\n",
            "----------\n",
            "Training Loss: 0.0810 Acc: 0.9683\n",
            "Testing Loss: 0.6771 Acc: 0.8408\n",
            "Epoch 19/20\n",
            "----------\n",
            "Training Loss: 0.0810 Acc: 0.9683\n",
            "Testing Loss: 0.6979 Acc: 0.8396\n",
            "Epoch 20/20\n",
            "----------\n",
            "Training Loss: 0.0787 Acc: 0.9698\n",
            "Testing Loss: 0.7016 Acc: 0.8412\n",
            "Training complete in 22m 35s\n",
            "Best Testing accucary: 0.8412\n"
          ]
        }
      ]
    },
    {
      "cell_type": "code",
      "source": [
        "#Testing \n",
        "model_ft.eval()\n",
        "running_loss = 0.0\n",
        "running_corrects = 0.0\n",
        "\n",
        "for inputs, labels in test_loader:\n",
        "  inputs = inputs.to(device)\n",
        "  labels = labels.to(device)\n",
        "    \n",
        "  with torch.set_grad_enabled(False):\n",
        "    outputs = model_ft(inputs)\n",
        "    _, preds = torch.max(outputs, 1)\n",
        "    loss = nn.CrossEntropyLoss()(outputs, labels)\n",
        "      \n",
        "  running_loss += loss.item() * inputs.size(0)\n",
        "  running_corrects += torch.sum(preds == labels.data)\n",
        "  \n",
        "loss = running_loss /len(test_dataset)\n",
        "acc = running_corrects.double() / len(test_dataset)\n",
        "  \n",
        "print('Testing Loss: {:.4f} Acc: {:.4f}'.format(loss, acc))"
      ],
      "metadata": {
        "colab": {
          "base_uri": "https://localhost:8080/"
        },
        "id": "AnK_F8oxSizL",
        "outputId": "3b947743-78fd-4e3c-d53e-916b7951b21c"
      },
      "execution_count": null,
      "outputs": [
        {
          "output_type": "stream",
          "name": "stdout",
          "text": [
            "Testing Loss: 0.6986 Acc: 0.8412\n"
          ]
        }
      ]
    },
    {
      "cell_type": "code",
      "source": [
        "#Evaluation \n",
        "model_ft.eval()\n",
        "running_loss = 0.0\n",
        "running_corrects = 0.0\n",
        "\n",
        "for inputs, labels in val_loader:\n",
        "  inputs = inputs.to(device)\n",
        "  labels = labels.to(device)\n",
        "    \n",
        "  with torch.set_grad_enabled(False):\n",
        "    outputs = model_ft(inputs)\n",
        "    _, preds = torch.max(outputs, 1)\n",
        "    loss = nn.CrossEntropyLoss()(outputs, labels)\n",
        "      \n",
        "  running_loss += loss.item() * inputs.size(0)\n",
        "  running_corrects += torch.sum(preds == labels.data)\n",
        "  \n",
        "loss = running_loss /len(val_dataset)\n",
        "acc = running_corrects.double() / len(val_dataset)\n",
        "  \n",
        "print('Validation Loss: {:.4f} Acc: {:.4f}'.format(loss, acc))"
      ],
      "metadata": {
        "colab": {
          "base_uri": "https://localhost:8080/"
        },
        "id": "vPGJcWuNS-VY",
        "outputId": "cb042744-29d9-4eec-f92f-403e7c7388bd"
      },
      "execution_count": null,
      "outputs": [
        {
          "output_type": "stream",
          "name": "stdout",
          "text": [
            "Validation Loss: 0.4905 Acc: 0.8028\n"
          ]
        }
      ]
    },
    {
      "cell_type": "markdown",
      "source": [
        "### Conclusiones\n",
        "- Primero nos gustaría aclarar que tratamos de utilizar técnicas de data augmentation, pero no tuvimos éxito porque no entendíamos del todo bien como utilizarlas y no teníamos demasiado tiempo para investigar su funcionamiento.\n",
        "- Sumado al punto anterior, creemos que el data augmentation hubiese traido resultados positivos al modelo escogido, pues así bajaría su accuracy y daría pie a que el modelo mejore en la data de testing.\n",
        "- Nos gustaría recalcar que el modelo escogido fue ese no por tener el porcentaje más alto de accuracy, sino porque era el que presentaba un gráfico más prometedor que todos los demás.\n",
        "- Adam mezclado con un learning rate alto produjo grandes resultados, creo que este fue el resultado más inesperado del caso de estudio, pues como se mencionaba en la sección, probar un learning rate más alto era por curiosidad más que por obtener resultados, sin embargo aparecieron resultados bastante buenos y con mucha información útil.\n",
        "- El modelo actual no está libre de overfitting, sin embargo creemos que es el que más logró reducir el problema y obtener los resultados más positivos.\n",
        "- El mayor problema de esta tarea era la falta de data para poder entrenar la red apropiadamente, sin embargo fue interesante tratar de encontrar maneras en que el modelo dejara de memorizar.\n",
        "- Otra conclusión importante y que fue clave para poder salir del limbo del 75% fue hacer un crop en el centro de la imagen, probablemente la imagen es bastante homogénea en algunas partes, por lo tanto hacer crop de forma aleatoria terminaba por entorpecer el aprendizaje, dado que podía darse la casualidad de que el RandomResizedCrop extrayera una parte inútil de la imagen que incluso a un humano lo costaría discernir su clase.\n",
        "- Cabe destacar que la data de validación al ser muy escasa y encima no homogénea, no va a producir resultados muy representativos, sin embargo nos puede dar una leve idea de cómo funciona la red, y en este caso parece funcionar bastante bien.\n",
        "- Como reflexión final creemos que es una red que aún puede mejorar mucho más, pero de la que no se podría tener certeza hasta poder tener una data de validación más representativa y homogénea."
      ],
      "metadata": {
        "id": "qwoFXRjGOAlZ"
      }
    }
  ],
  "metadata": {
    "accelerator": "GPU",
    "colab": {
      "collapsed_sections": [
        "6a7J1L0FnYTM",
        "7ZD51ncHvq9O",
        "GtZPKavBvuix",
        "TgvCfTmwEr8y",
        "zzdUfp2ZlcYD",
        "Xh9FU62klWoV",
        "uBZS1Dzsq7f_",
        "evi--Rpdu4x0",
        "wCkkbQ_Yu9FL",
        "vQPB3tuIvZHM",
        "le4AEXjD7Tzh",
        "FMjK7z2HSSKu",
        "-3LvCGH734Ba",
        "PJRNtriLSynW",
        "SJdrVvXGS2ft",
        "_EMxW52bUXkb",
        "zwxQ8G_L33K3",
        "Hp39TlPR35Mw",
        "rh3VnVa7NveH",
        "lgqSzcLXN80n"
      ],
      "provenance": [],
      "include_colab_link": true
    },
    "gpuClass": "standard",
    "kernelspec": {
      "display_name": "Python 3",
      "name": "python3"
    },
    "language_info": {
      "name": "python"
    },
    "widgets": {
      "application/vnd.jupyter.widget-state+json": {
        "3e329e8aedbd4f16a20bcbd0cfc2e41d": {
          "model_module": "@jupyter-widgets/base",
          "model_module_version": "1.2.0",
          "model_name": "LayoutModel",
          "state": {
            "_model_module": "@jupyter-widgets/base",
            "_model_module_version": "1.2.0",
            "_model_name": "LayoutModel",
            "_view_count": null,
            "_view_module": "@jupyter-widgets/base",
            "_view_module_version": "1.2.0",
            "_view_name": "LayoutView",
            "align_content": null,
            "align_items": null,
            "align_self": null,
            "border": null,
            "bottom": null,
            "display": null,
            "flex": null,
            "flex_flow": null,
            "grid_area": null,
            "grid_auto_columns": null,
            "grid_auto_flow": null,
            "grid_auto_rows": null,
            "grid_column": null,
            "grid_gap": null,
            "grid_row": null,
            "grid_template_areas": null,
            "grid_template_columns": null,
            "grid_template_rows": null,
            "height": null,
            "justify_content": null,
            "justify_items": null,
            "left": null,
            "margin": null,
            "max_height": null,
            "max_width": null,
            "min_height": null,
            "min_width": null,
            "object_fit": null,
            "object_position": null,
            "order": null,
            "overflow": null,
            "overflow_x": null,
            "overflow_y": null,
            "padding": null,
            "right": null,
            "top": null,
            "visibility": null,
            "width": null
          }
        },
        "47e23d583502483ca8c8bf421ee1811e": {
          "model_module": "@jupyter-widgets/base",
          "model_module_version": "1.2.0",
          "model_name": "LayoutModel",
          "state": {
            "_model_module": "@jupyter-widgets/base",
            "_model_module_version": "1.2.0",
            "_model_name": "LayoutModel",
            "_view_count": null,
            "_view_module": "@jupyter-widgets/base",
            "_view_module_version": "1.2.0",
            "_view_name": "LayoutView",
            "align_content": null,
            "align_items": null,
            "align_self": null,
            "border": null,
            "bottom": null,
            "display": null,
            "flex": null,
            "flex_flow": null,
            "grid_area": null,
            "grid_auto_columns": null,
            "grid_auto_flow": null,
            "grid_auto_rows": null,
            "grid_column": null,
            "grid_gap": null,
            "grid_row": null,
            "grid_template_areas": null,
            "grid_template_columns": null,
            "grid_template_rows": null,
            "height": null,
            "justify_content": null,
            "justify_items": null,
            "left": null,
            "margin": null,
            "max_height": null,
            "max_width": null,
            "min_height": null,
            "min_width": null,
            "object_fit": null,
            "object_position": null,
            "order": null,
            "overflow": null,
            "overflow_x": null,
            "overflow_y": null,
            "padding": null,
            "right": null,
            "top": null,
            "visibility": null,
            "width": null
          }
        },
        "49704beb1c3b40bca7143df8835f0cfd": {
          "model_module": "@jupyter-widgets/controls",
          "model_module_version": "1.5.0",
          "model_name": "HBoxModel",
          "state": {
            "_dom_classes": [],
            "_model_module": "@jupyter-widgets/controls",
            "_model_module_version": "1.5.0",
            "_model_name": "HBoxModel",
            "_view_count": null,
            "_view_module": "@jupyter-widgets/controls",
            "_view_module_version": "1.5.0",
            "_view_name": "HBoxView",
            "box_style": "",
            "children": [
              "IPY_MODEL_f2bd4644898c4a61a3d60b78d844fe75",
              "IPY_MODEL_81ee9f94cf984e6388d58a4c183c976b",
              "IPY_MODEL_73fa4936c29249b299e02f71708e1fe5"
            ],
            "layout": "IPY_MODEL_3e329e8aedbd4f16a20bcbd0cfc2e41d"
          }
        },
        "6ef9f3bc57844a80a96030c916cb11e3": {
          "model_module": "@jupyter-widgets/controls",
          "model_module_version": "1.5.0",
          "model_name": "ProgressStyleModel",
          "state": {
            "_model_module": "@jupyter-widgets/controls",
            "_model_module_version": "1.5.0",
            "_model_name": "ProgressStyleModel",
            "_view_count": null,
            "_view_module": "@jupyter-widgets/base",
            "_view_module_version": "1.2.0",
            "_view_name": "StyleView",
            "bar_color": null,
            "description_width": ""
          }
        },
        "73fa4936c29249b299e02f71708e1fe5": {
          "model_module": "@jupyter-widgets/controls",
          "model_module_version": "1.5.0",
          "model_name": "HTMLModel",
          "state": {
            "_dom_classes": [],
            "_model_module": "@jupyter-widgets/controls",
            "_model_module_version": "1.5.0",
            "_model_name": "HTMLModel",
            "_view_count": null,
            "_view_module": "@jupyter-widgets/controls",
            "_view_module_version": "1.5.0",
            "_view_name": "HTMLView",
            "description": "",
            "description_tooltip": null,
            "layout": "IPY_MODEL_8d6471ed5bbd47808600df7845d7a8d7",
            "placeholder": "​",
            "style": "IPY_MODEL_ef44afb6d17f400c81eaaa77daeb34e4",
            "value": " 49.7M/49.7M [00:00&lt;00:00, 83.0MB/s]"
          }
        },
        "81ee9f94cf984e6388d58a4c183c976b": {
          "model_module": "@jupyter-widgets/controls",
          "model_module_version": "1.5.0",
          "model_name": "FloatProgressModel",
          "state": {
            "_dom_classes": [],
            "_model_module": "@jupyter-widgets/controls",
            "_model_module_version": "1.5.0",
            "_model_name": "FloatProgressModel",
            "_view_count": null,
            "_view_module": "@jupyter-widgets/controls",
            "_view_module_version": "1.5.0",
            "_view_name": "ProgressView",
            "bar_style": "success",
            "description": "",
            "description_tooltip": null,
            "layout": "IPY_MODEL_47e23d583502483ca8c8bf421ee1811e",
            "max": 52147035,
            "min": 0,
            "orientation": "horizontal",
            "style": "IPY_MODEL_6ef9f3bc57844a80a96030c916cb11e3",
            "value": 52147035
          }
        },
        "8d6471ed5bbd47808600df7845d7a8d7": {
          "model_module": "@jupyter-widgets/base",
          "model_module_version": "1.2.0",
          "model_name": "LayoutModel",
          "state": {
            "_model_module": "@jupyter-widgets/base",
            "_model_module_version": "1.2.0",
            "_model_name": "LayoutModel",
            "_view_count": null,
            "_view_module": "@jupyter-widgets/base",
            "_view_module_version": "1.2.0",
            "_view_name": "LayoutView",
            "align_content": null,
            "align_items": null,
            "align_self": null,
            "border": null,
            "bottom": null,
            "display": null,
            "flex": null,
            "flex_flow": null,
            "grid_area": null,
            "grid_auto_columns": null,
            "grid_auto_flow": null,
            "grid_auto_rows": null,
            "grid_column": null,
            "grid_gap": null,
            "grid_row": null,
            "grid_template_areas": null,
            "grid_template_columns": null,
            "grid_template_rows": null,
            "height": null,
            "justify_content": null,
            "justify_items": null,
            "left": null,
            "margin": null,
            "max_height": null,
            "max_width": null,
            "min_height": null,
            "min_width": null,
            "object_fit": null,
            "object_position": null,
            "order": null,
            "overflow": null,
            "overflow_x": null,
            "overflow_y": null,
            "padding": null,
            "right": null,
            "top": null,
            "visibility": null,
            "width": null
          }
        },
        "beea365b7f5643d990993450ed0d3c40": {
          "model_module": "@jupyter-widgets/base",
          "model_module_version": "1.2.0",
          "model_name": "LayoutModel",
          "state": {
            "_model_module": "@jupyter-widgets/base",
            "_model_module_version": "1.2.0",
            "_model_name": "LayoutModel",
            "_view_count": null,
            "_view_module": "@jupyter-widgets/base",
            "_view_module_version": "1.2.0",
            "_view_name": "LayoutView",
            "align_content": null,
            "align_items": null,
            "align_self": null,
            "border": null,
            "bottom": null,
            "display": null,
            "flex": null,
            "flex_flow": null,
            "grid_area": null,
            "grid_auto_columns": null,
            "grid_auto_flow": null,
            "grid_auto_rows": null,
            "grid_column": null,
            "grid_gap": null,
            "grid_row": null,
            "grid_template_areas": null,
            "grid_template_columns": null,
            "grid_template_rows": null,
            "height": null,
            "justify_content": null,
            "justify_items": null,
            "left": null,
            "margin": null,
            "max_height": null,
            "max_width": null,
            "min_height": null,
            "min_width": null,
            "object_fit": null,
            "object_position": null,
            "order": null,
            "overflow": null,
            "overflow_x": null,
            "overflow_y": null,
            "padding": null,
            "right": null,
            "top": null,
            "visibility": null,
            "width": null
          }
        },
        "ea1ec0537b634e1c8e45ff76ead4b593": {
          "model_module": "@jupyter-widgets/controls",
          "model_module_version": "1.5.0",
          "model_name": "DescriptionStyleModel",
          "state": {
            "_model_module": "@jupyter-widgets/controls",
            "_model_module_version": "1.5.0",
            "_model_name": "DescriptionStyleModel",
            "_view_count": null,
            "_view_module": "@jupyter-widgets/base",
            "_view_module_version": "1.2.0",
            "_view_name": "StyleView",
            "description_width": ""
          }
        },
        "ef44afb6d17f400c81eaaa77daeb34e4": {
          "model_module": "@jupyter-widgets/controls",
          "model_module_version": "1.5.0",
          "model_name": "DescriptionStyleModel",
          "state": {
            "_model_module": "@jupyter-widgets/controls",
            "_model_module_version": "1.5.0",
            "_model_name": "DescriptionStyleModel",
            "_view_count": null,
            "_view_module": "@jupyter-widgets/base",
            "_view_module_version": "1.2.0",
            "_view_name": "StyleView",
            "description_width": ""
          }
        },
        "f2bd4644898c4a61a3d60b78d844fe75": {
          "model_module": "@jupyter-widgets/controls",
          "model_module_version": "1.5.0",
          "model_name": "HTMLModel",
          "state": {
            "_dom_classes": [],
            "_model_module": "@jupyter-widgets/controls",
            "_model_module_version": "1.5.0",
            "_model_name": "HTMLModel",
            "_view_count": null,
            "_view_module": "@jupyter-widgets/controls",
            "_view_module_version": "1.5.0",
            "_view_name": "HTMLView",
            "description": "",
            "description_tooltip": null,
            "layout": "IPY_MODEL_beea365b7f5643d990993450ed0d3c40",
            "placeholder": "​",
            "style": "IPY_MODEL_ea1ec0537b634e1c8e45ff76ead4b593",
            "value": "100%"
          }
        },
        "0cd4ae2599204a64a567d61f7cfba1b9": {
          "model_module": "@jupyter-widgets/controls",
          "model_name": "HBoxModel",
          "model_module_version": "1.5.0",
          "state": {
            "_dom_classes": [],
            "_model_module": "@jupyter-widgets/controls",
            "_model_module_version": "1.5.0",
            "_model_name": "HBoxModel",
            "_view_count": null,
            "_view_module": "@jupyter-widgets/controls",
            "_view_module_version": "1.5.0",
            "_view_name": "HBoxView",
            "box_style": "",
            "children": [
              "IPY_MODEL_7a8be20b656f42ad8cfd167b74de8e31",
              "IPY_MODEL_b6bff1f3257e4a599a1589e54f90f1d6",
              "IPY_MODEL_64476ca4aa5548608e65385ff307db66"
            ],
            "layout": "IPY_MODEL_25a3ff31bf574e2d91ad0e50b76e3213"
          }
        },
        "7a8be20b656f42ad8cfd167b74de8e31": {
          "model_module": "@jupyter-widgets/controls",
          "model_name": "HTMLModel",
          "model_module_version": "1.5.0",
          "state": {
            "_dom_classes": [],
            "_model_module": "@jupyter-widgets/controls",
            "_model_module_version": "1.5.0",
            "_model_name": "HTMLModel",
            "_view_count": null,
            "_view_module": "@jupyter-widgets/controls",
            "_view_module_version": "1.5.0",
            "_view_name": "HTMLView",
            "description": "",
            "description_tooltip": null,
            "layout": "IPY_MODEL_4e6ae0d8885e4f4e9f5de740d05698f5",
            "placeholder": "​",
            "style": "IPY_MODEL_956b931e0e834710895e25fb86fb0a93",
            "value": "100%"
          }
        },
        "b6bff1f3257e4a599a1589e54f90f1d6": {
          "model_module": "@jupyter-widgets/controls",
          "model_name": "FloatProgressModel",
          "model_module_version": "1.5.0",
          "state": {
            "_dom_classes": [],
            "_model_module": "@jupyter-widgets/controls",
            "_model_module_version": "1.5.0",
            "_model_name": "FloatProgressModel",
            "_view_count": null,
            "_view_module": "@jupyter-widgets/controls",
            "_view_module_version": "1.5.0",
            "_view_name": "ProgressView",
            "bar_style": "success",
            "description": "",
            "description_tooltip": null,
            "layout": "IPY_MODEL_90fedd3517c543b3882db9dc23ea3338",
            "max": 46830571,
            "min": 0,
            "orientation": "horizontal",
            "style": "IPY_MODEL_0dbe9cce09404b2b8ca1de27217c2bfb",
            "value": 46830571
          }
        },
        "64476ca4aa5548608e65385ff307db66": {
          "model_module": "@jupyter-widgets/controls",
          "model_name": "HTMLModel",
          "model_module_version": "1.5.0",
          "state": {
            "_dom_classes": [],
            "_model_module": "@jupyter-widgets/controls",
            "_model_module_version": "1.5.0",
            "_model_name": "HTMLModel",
            "_view_count": null,
            "_view_module": "@jupyter-widgets/controls",
            "_view_module_version": "1.5.0",
            "_view_name": "HTMLView",
            "description": "",
            "description_tooltip": null,
            "layout": "IPY_MODEL_f7f0cc1712ac40c7b746f7d8c516bdd8",
            "placeholder": "​",
            "style": "IPY_MODEL_ababc700b4364d9d81aac4948fdeea93",
            "value": " 44.7M/44.7M [00:00&lt;00:00, 111MB/s]"
          }
        },
        "25a3ff31bf574e2d91ad0e50b76e3213": {
          "model_module": "@jupyter-widgets/base",
          "model_name": "LayoutModel",
          "model_module_version": "1.2.0",
          "state": {
            "_model_module": "@jupyter-widgets/base",
            "_model_module_version": "1.2.0",
            "_model_name": "LayoutModel",
            "_view_count": null,
            "_view_module": "@jupyter-widgets/base",
            "_view_module_version": "1.2.0",
            "_view_name": "LayoutView",
            "align_content": null,
            "align_items": null,
            "align_self": null,
            "border": null,
            "bottom": null,
            "display": null,
            "flex": null,
            "flex_flow": null,
            "grid_area": null,
            "grid_auto_columns": null,
            "grid_auto_flow": null,
            "grid_auto_rows": null,
            "grid_column": null,
            "grid_gap": null,
            "grid_row": null,
            "grid_template_areas": null,
            "grid_template_columns": null,
            "grid_template_rows": null,
            "height": null,
            "justify_content": null,
            "justify_items": null,
            "left": null,
            "margin": null,
            "max_height": null,
            "max_width": null,
            "min_height": null,
            "min_width": null,
            "object_fit": null,
            "object_position": null,
            "order": null,
            "overflow": null,
            "overflow_x": null,
            "overflow_y": null,
            "padding": null,
            "right": null,
            "top": null,
            "visibility": null,
            "width": null
          }
        },
        "4e6ae0d8885e4f4e9f5de740d05698f5": {
          "model_module": "@jupyter-widgets/base",
          "model_name": "LayoutModel",
          "model_module_version": "1.2.0",
          "state": {
            "_model_module": "@jupyter-widgets/base",
            "_model_module_version": "1.2.0",
            "_model_name": "LayoutModel",
            "_view_count": null,
            "_view_module": "@jupyter-widgets/base",
            "_view_module_version": "1.2.0",
            "_view_name": "LayoutView",
            "align_content": null,
            "align_items": null,
            "align_self": null,
            "border": null,
            "bottom": null,
            "display": null,
            "flex": null,
            "flex_flow": null,
            "grid_area": null,
            "grid_auto_columns": null,
            "grid_auto_flow": null,
            "grid_auto_rows": null,
            "grid_column": null,
            "grid_gap": null,
            "grid_row": null,
            "grid_template_areas": null,
            "grid_template_columns": null,
            "grid_template_rows": null,
            "height": null,
            "justify_content": null,
            "justify_items": null,
            "left": null,
            "margin": null,
            "max_height": null,
            "max_width": null,
            "min_height": null,
            "min_width": null,
            "object_fit": null,
            "object_position": null,
            "order": null,
            "overflow": null,
            "overflow_x": null,
            "overflow_y": null,
            "padding": null,
            "right": null,
            "top": null,
            "visibility": null,
            "width": null
          }
        },
        "956b931e0e834710895e25fb86fb0a93": {
          "model_module": "@jupyter-widgets/controls",
          "model_name": "DescriptionStyleModel",
          "model_module_version": "1.5.0",
          "state": {
            "_model_module": "@jupyter-widgets/controls",
            "_model_module_version": "1.5.0",
            "_model_name": "DescriptionStyleModel",
            "_view_count": null,
            "_view_module": "@jupyter-widgets/base",
            "_view_module_version": "1.2.0",
            "_view_name": "StyleView",
            "description_width": ""
          }
        },
        "90fedd3517c543b3882db9dc23ea3338": {
          "model_module": "@jupyter-widgets/base",
          "model_name": "LayoutModel",
          "model_module_version": "1.2.0",
          "state": {
            "_model_module": "@jupyter-widgets/base",
            "_model_module_version": "1.2.0",
            "_model_name": "LayoutModel",
            "_view_count": null,
            "_view_module": "@jupyter-widgets/base",
            "_view_module_version": "1.2.0",
            "_view_name": "LayoutView",
            "align_content": null,
            "align_items": null,
            "align_self": null,
            "border": null,
            "bottom": null,
            "display": null,
            "flex": null,
            "flex_flow": null,
            "grid_area": null,
            "grid_auto_columns": null,
            "grid_auto_flow": null,
            "grid_auto_rows": null,
            "grid_column": null,
            "grid_gap": null,
            "grid_row": null,
            "grid_template_areas": null,
            "grid_template_columns": null,
            "grid_template_rows": null,
            "height": null,
            "justify_content": null,
            "justify_items": null,
            "left": null,
            "margin": null,
            "max_height": null,
            "max_width": null,
            "min_height": null,
            "min_width": null,
            "object_fit": null,
            "object_position": null,
            "order": null,
            "overflow": null,
            "overflow_x": null,
            "overflow_y": null,
            "padding": null,
            "right": null,
            "top": null,
            "visibility": null,
            "width": null
          }
        },
        "0dbe9cce09404b2b8ca1de27217c2bfb": {
          "model_module": "@jupyter-widgets/controls",
          "model_name": "ProgressStyleModel",
          "model_module_version": "1.5.0",
          "state": {
            "_model_module": "@jupyter-widgets/controls",
            "_model_module_version": "1.5.0",
            "_model_name": "ProgressStyleModel",
            "_view_count": null,
            "_view_module": "@jupyter-widgets/base",
            "_view_module_version": "1.2.0",
            "_view_name": "StyleView",
            "bar_color": null,
            "description_width": ""
          }
        },
        "f7f0cc1712ac40c7b746f7d8c516bdd8": {
          "model_module": "@jupyter-widgets/base",
          "model_name": "LayoutModel",
          "model_module_version": "1.2.0",
          "state": {
            "_model_module": "@jupyter-widgets/base",
            "_model_module_version": "1.2.0",
            "_model_name": "LayoutModel",
            "_view_count": null,
            "_view_module": "@jupyter-widgets/base",
            "_view_module_version": "1.2.0",
            "_view_name": "LayoutView",
            "align_content": null,
            "align_items": null,
            "align_self": null,
            "border": null,
            "bottom": null,
            "display": null,
            "flex": null,
            "flex_flow": null,
            "grid_area": null,
            "grid_auto_columns": null,
            "grid_auto_flow": null,
            "grid_auto_rows": null,
            "grid_column": null,
            "grid_gap": null,
            "grid_row": null,
            "grid_template_areas": null,
            "grid_template_columns": null,
            "grid_template_rows": null,
            "height": null,
            "justify_content": null,
            "justify_items": null,
            "left": null,
            "margin": null,
            "max_height": null,
            "max_width": null,
            "min_height": null,
            "min_width": null,
            "object_fit": null,
            "object_position": null,
            "order": null,
            "overflow": null,
            "overflow_x": null,
            "overflow_y": null,
            "padding": null,
            "right": null,
            "top": null,
            "visibility": null,
            "width": null
          }
        },
        "ababc700b4364d9d81aac4948fdeea93": {
          "model_module": "@jupyter-widgets/controls",
          "model_name": "DescriptionStyleModel",
          "model_module_version": "1.5.0",
          "state": {
            "_model_module": "@jupyter-widgets/controls",
            "_model_module_version": "1.5.0",
            "_model_name": "DescriptionStyleModel",
            "_view_count": null,
            "_view_module": "@jupyter-widgets/base",
            "_view_module_version": "1.2.0",
            "_view_name": "StyleView",
            "description_width": ""
          }
        },
        "5a1b74f1372842a49e568919348cc3b6": {
          "model_module": "@jupyter-widgets/controls",
          "model_name": "HBoxModel",
          "model_module_version": "1.5.0",
          "state": {
            "_dom_classes": [],
            "_model_module": "@jupyter-widgets/controls",
            "_model_module_version": "1.5.0",
            "_model_name": "HBoxModel",
            "_view_count": null,
            "_view_module": "@jupyter-widgets/controls",
            "_view_module_version": "1.5.0",
            "_view_name": "HBoxView",
            "box_style": "",
            "children": [
              "IPY_MODEL_873648d0ad9841e5ab5a2d197739d2b1",
              "IPY_MODEL_acb7ee0979b24b488138274970e25950",
              "IPY_MODEL_2819ab9d350b44e4a0b6bfe091e022b7"
            ],
            "layout": "IPY_MODEL_e18d278a18224768af66671140aeebb1"
          }
        },
        "873648d0ad9841e5ab5a2d197739d2b1": {
          "model_module": "@jupyter-widgets/controls",
          "model_name": "HTMLModel",
          "model_module_version": "1.5.0",
          "state": {
            "_dom_classes": [],
            "_model_module": "@jupyter-widgets/controls",
            "_model_module_version": "1.5.0",
            "_model_name": "HTMLModel",
            "_view_count": null,
            "_view_module": "@jupyter-widgets/controls",
            "_view_module_version": "1.5.0",
            "_view_name": "HTMLView",
            "description": "",
            "description_tooltip": null,
            "layout": "IPY_MODEL_e7580de5ea764c59b0039a54c5cd1c66",
            "placeholder": "​",
            "style": "IPY_MODEL_d42730a7d32d4e9498cb7f37ea3b1422",
            "value": "100%"
          }
        },
        "acb7ee0979b24b488138274970e25950": {
          "model_module": "@jupyter-widgets/controls",
          "model_name": "FloatProgressModel",
          "model_module_version": "1.5.0",
          "state": {
            "_dom_classes": [],
            "_model_module": "@jupyter-widgets/controls",
            "_model_module_version": "1.5.0",
            "_model_name": "FloatProgressModel",
            "_view_count": null,
            "_view_module": "@jupyter-widgets/controls",
            "_view_module_version": "1.5.0",
            "_view_name": "ProgressView",
            "bar_style": "success",
            "description": "",
            "description_tooltip": null,
            "layout": "IPY_MODEL_282a826894c24307b353bd264ec63add",
            "max": 46830571,
            "min": 0,
            "orientation": "horizontal",
            "style": "IPY_MODEL_745e569097ea43938ed2f18a0f02831e",
            "value": 46830571
          }
        },
        "2819ab9d350b44e4a0b6bfe091e022b7": {
          "model_module": "@jupyter-widgets/controls",
          "model_name": "HTMLModel",
          "model_module_version": "1.5.0",
          "state": {
            "_dom_classes": [],
            "_model_module": "@jupyter-widgets/controls",
            "_model_module_version": "1.5.0",
            "_model_name": "HTMLModel",
            "_view_count": null,
            "_view_module": "@jupyter-widgets/controls",
            "_view_module_version": "1.5.0",
            "_view_name": "HTMLView",
            "description": "",
            "description_tooltip": null,
            "layout": "IPY_MODEL_57049cc5059340a382cef4ec8562e9f3",
            "placeholder": "​",
            "style": "IPY_MODEL_1fcef5cc64cc4d61ae5b7aeb164fa80c",
            "value": " 44.7M/44.7M [00:00&lt;00:00, 207MB/s]"
          }
        },
        "e18d278a18224768af66671140aeebb1": {
          "model_module": "@jupyter-widgets/base",
          "model_name": "LayoutModel",
          "model_module_version": "1.2.0",
          "state": {
            "_model_module": "@jupyter-widgets/base",
            "_model_module_version": "1.2.0",
            "_model_name": "LayoutModel",
            "_view_count": null,
            "_view_module": "@jupyter-widgets/base",
            "_view_module_version": "1.2.0",
            "_view_name": "LayoutView",
            "align_content": null,
            "align_items": null,
            "align_self": null,
            "border": null,
            "bottom": null,
            "display": null,
            "flex": null,
            "flex_flow": null,
            "grid_area": null,
            "grid_auto_columns": null,
            "grid_auto_flow": null,
            "grid_auto_rows": null,
            "grid_column": null,
            "grid_gap": null,
            "grid_row": null,
            "grid_template_areas": null,
            "grid_template_columns": null,
            "grid_template_rows": null,
            "height": null,
            "justify_content": null,
            "justify_items": null,
            "left": null,
            "margin": null,
            "max_height": null,
            "max_width": null,
            "min_height": null,
            "min_width": null,
            "object_fit": null,
            "object_position": null,
            "order": null,
            "overflow": null,
            "overflow_x": null,
            "overflow_y": null,
            "padding": null,
            "right": null,
            "top": null,
            "visibility": null,
            "width": null
          }
        },
        "e7580de5ea764c59b0039a54c5cd1c66": {
          "model_module": "@jupyter-widgets/base",
          "model_name": "LayoutModel",
          "model_module_version": "1.2.0",
          "state": {
            "_model_module": "@jupyter-widgets/base",
            "_model_module_version": "1.2.0",
            "_model_name": "LayoutModel",
            "_view_count": null,
            "_view_module": "@jupyter-widgets/base",
            "_view_module_version": "1.2.0",
            "_view_name": "LayoutView",
            "align_content": null,
            "align_items": null,
            "align_self": null,
            "border": null,
            "bottom": null,
            "display": null,
            "flex": null,
            "flex_flow": null,
            "grid_area": null,
            "grid_auto_columns": null,
            "grid_auto_flow": null,
            "grid_auto_rows": null,
            "grid_column": null,
            "grid_gap": null,
            "grid_row": null,
            "grid_template_areas": null,
            "grid_template_columns": null,
            "grid_template_rows": null,
            "height": null,
            "justify_content": null,
            "justify_items": null,
            "left": null,
            "margin": null,
            "max_height": null,
            "max_width": null,
            "min_height": null,
            "min_width": null,
            "object_fit": null,
            "object_position": null,
            "order": null,
            "overflow": null,
            "overflow_x": null,
            "overflow_y": null,
            "padding": null,
            "right": null,
            "top": null,
            "visibility": null,
            "width": null
          }
        },
        "d42730a7d32d4e9498cb7f37ea3b1422": {
          "model_module": "@jupyter-widgets/controls",
          "model_name": "DescriptionStyleModel",
          "model_module_version": "1.5.0",
          "state": {
            "_model_module": "@jupyter-widgets/controls",
            "_model_module_version": "1.5.0",
            "_model_name": "DescriptionStyleModel",
            "_view_count": null,
            "_view_module": "@jupyter-widgets/base",
            "_view_module_version": "1.2.0",
            "_view_name": "StyleView",
            "description_width": ""
          }
        },
        "282a826894c24307b353bd264ec63add": {
          "model_module": "@jupyter-widgets/base",
          "model_name": "LayoutModel",
          "model_module_version": "1.2.0",
          "state": {
            "_model_module": "@jupyter-widgets/base",
            "_model_module_version": "1.2.0",
            "_model_name": "LayoutModel",
            "_view_count": null,
            "_view_module": "@jupyter-widgets/base",
            "_view_module_version": "1.2.0",
            "_view_name": "LayoutView",
            "align_content": null,
            "align_items": null,
            "align_self": null,
            "border": null,
            "bottom": null,
            "display": null,
            "flex": null,
            "flex_flow": null,
            "grid_area": null,
            "grid_auto_columns": null,
            "grid_auto_flow": null,
            "grid_auto_rows": null,
            "grid_column": null,
            "grid_gap": null,
            "grid_row": null,
            "grid_template_areas": null,
            "grid_template_columns": null,
            "grid_template_rows": null,
            "height": null,
            "justify_content": null,
            "justify_items": null,
            "left": null,
            "margin": null,
            "max_height": null,
            "max_width": null,
            "min_height": null,
            "min_width": null,
            "object_fit": null,
            "object_position": null,
            "order": null,
            "overflow": null,
            "overflow_x": null,
            "overflow_y": null,
            "padding": null,
            "right": null,
            "top": null,
            "visibility": null,
            "width": null
          }
        },
        "745e569097ea43938ed2f18a0f02831e": {
          "model_module": "@jupyter-widgets/controls",
          "model_name": "ProgressStyleModel",
          "model_module_version": "1.5.0",
          "state": {
            "_model_module": "@jupyter-widgets/controls",
            "_model_module_version": "1.5.0",
            "_model_name": "ProgressStyleModel",
            "_view_count": null,
            "_view_module": "@jupyter-widgets/base",
            "_view_module_version": "1.2.0",
            "_view_name": "StyleView",
            "bar_color": null,
            "description_width": ""
          }
        },
        "57049cc5059340a382cef4ec8562e9f3": {
          "model_module": "@jupyter-widgets/base",
          "model_name": "LayoutModel",
          "model_module_version": "1.2.0",
          "state": {
            "_model_module": "@jupyter-widgets/base",
            "_model_module_version": "1.2.0",
            "_model_name": "LayoutModel",
            "_view_count": null,
            "_view_module": "@jupyter-widgets/base",
            "_view_module_version": "1.2.0",
            "_view_name": "LayoutView",
            "align_content": null,
            "align_items": null,
            "align_self": null,
            "border": null,
            "bottom": null,
            "display": null,
            "flex": null,
            "flex_flow": null,
            "grid_area": null,
            "grid_auto_columns": null,
            "grid_auto_flow": null,
            "grid_auto_rows": null,
            "grid_column": null,
            "grid_gap": null,
            "grid_row": null,
            "grid_template_areas": null,
            "grid_template_columns": null,
            "grid_template_rows": null,
            "height": null,
            "justify_content": null,
            "justify_items": null,
            "left": null,
            "margin": null,
            "max_height": null,
            "max_width": null,
            "min_height": null,
            "min_width": null,
            "object_fit": null,
            "object_position": null,
            "order": null,
            "overflow": null,
            "overflow_x": null,
            "overflow_y": null,
            "padding": null,
            "right": null,
            "top": null,
            "visibility": null,
            "width": null
          }
        },
        "1fcef5cc64cc4d61ae5b7aeb164fa80c": {
          "model_module": "@jupyter-widgets/controls",
          "model_name": "DescriptionStyleModel",
          "model_module_version": "1.5.0",
          "state": {
            "_model_module": "@jupyter-widgets/controls",
            "_model_module_version": "1.5.0",
            "_model_name": "DescriptionStyleModel",
            "_view_count": null,
            "_view_module": "@jupyter-widgets/base",
            "_view_module_version": "1.2.0",
            "_view_name": "StyleView",
            "description_width": ""
          }
        }
      }
    }
  },
  "nbformat": 4,
  "nbformat_minor": 0
}